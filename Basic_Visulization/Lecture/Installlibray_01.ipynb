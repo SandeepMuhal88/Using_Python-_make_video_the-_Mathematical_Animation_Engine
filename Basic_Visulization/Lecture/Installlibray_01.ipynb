{
 "cells": [
  {
   "cell_type": "code",
   "execution_count": 1,
   "id": "f3a0c403",
   "metadata": {},
   "outputs": [],
   "source": [
    "# %pip install manim\n"
   ]
  },
  {
   "cell_type": "code",
   "execution_count": 2,
   "id": "e408264b",
   "metadata": {},
   "outputs": [],
   "source": [
    "# %pip install ipython"
   ]
  },
  {
   "cell_type": "code",
   "execution_count": 3,
   "id": "cbe22111",
   "metadata": {},
   "outputs": [
    {
     "name": "stderr",
     "output_type": "stream",
     "text": [
      "d:\\Video animation using coding\\.manim\\lib\\site-packages\\pydub\\utils.py:170: RuntimeWarning: Couldn't find ffmpeg or avconv - defaulting to ffmpeg, but may not work\n",
      "  warn(\"Couldn't find ffmpeg or avconv - defaulting to ffmpeg, but may not work\", RuntimeWarning)\n"
     ]
    }
   ],
   "source": [
    "from manim import *\n"
   ]
  },
  {
   "cell_type": "code",
   "execution_count": 4,
   "id": "196ec37b",
   "metadata": {},
   "outputs": [
    {
     "data": {
      "text/html": [
       "<pre style=\"white-space:pre;overflow-x:auto;line-height:normal;font-family:Menlo,'DejaVu Sans Mono',consolas,'Courier New',monospace\">Manim Community <span style=\"color: #008000; text-decoration-color: #008000\">v0.19.0</span>\n",
       "\n",
       "</pre>\n"
      ],
      "text/plain": [
       "Manim Community \u001b[32mv0.\u001b[0m\u001b[32m19.0\u001b[0m\n",
       "\n"
      ]
     },
     "metadata": {},
     "output_type": "display_data"
    },
    {
     "name": "stderr",
     "output_type": "stream",
     "text": [
      "                                                                            \r"
     ]
    },
    {
     "data": {
      "text/html": [
       "<video src=\"media\\jupyter\\MovingSquare@2025-08-04@21-00-44.mp4\" controls autoplay loop style=\"max-width: 60%;\"  >\n",
       "      Your browser does not support the <code>video</code> element.\n",
       "    </video>"
      ],
      "text/plain": [
       "<IPython.core.display.Video object>"
      ]
     },
     "metadata": {},
     "output_type": "display_data"
    }
   ],
   "source": [
    "%%manim -ql -v WARNING MovingSquare\n",
    "\n",
    "class MovingSquare(Scene):\n",
    "    def construct(self):\n",
    "        square = Square()\n",
    "        self.play(Create(square))\n",
    "        self.play(square.animate.shift(RIGHT * 2))\n",
    "        self.play(Rotate(square, angle=PI/6))\n",
    "        self.play(FadeOut(square))\n"
   ]
  },
  {
   "cell_type": "code",
   "execution_count": 5,
   "id": "91d35e74",
   "metadata": {},
   "outputs": [
    {
     "data": {
      "text/html": [
       "<pre style=\"white-space:pre;overflow-x:auto;line-height:normal;font-family:Menlo,'DejaVu Sans Mono',consolas,'Courier New',monospace\">Manim Community <span style=\"color: #008000; text-decoration-color: #008000\">v0.19.0</span>\n",
       "\n",
       "</pre>\n"
      ],
      "text/plain": [
       "Manim Community \u001b[32mv0.\u001b[0m\u001b[32m19.0\u001b[0m\n",
       "\n"
      ]
     },
     "metadata": {},
     "output_type": "display_data"
    },
    {
     "name": "stderr",
     "output_type": "stream",
     "text": [
      "                                                                            \r"
     ]
    },
    {
     "data": {
      "text/html": [
       "<video src=\"media\\jupyter\\MovingSquare@2025-08-04@21-00-44.mp4\" controls autoplay loop style=\"max-width: 60%;\"  >\n",
       "      Your browser does not support the <code>video</code> element.\n",
       "    </video>"
      ],
      "text/plain": [
       "<IPython.core.display.Video object>"
      ]
     },
     "metadata": {},
     "output_type": "display_data"
    }
   ],
   "source": [
    "%%manim -ql -v WARNING MovingSquare\n",
    "\n",
    "class MovingSquare(Scene):\n",
    "    def construct(self):\n",
    "        circle = Circle()\n",
    "        self.play(Create(circle))\n",
    "        self.play(circle.animate.shift(RIGHT * 2))\n",
    "        self.play(Rotate(circle, angle=PI/6))\n",
    "        self.play(FadeOut(circle))\n"
   ]
  },
  {
   "cell_type": "code",
   "execution_count": 6,
   "id": "49f28ce8",
   "metadata": {},
   "outputs": [
    {
     "data": {
      "text/html": [
       "<pre style=\"white-space:pre;overflow-x:auto;line-height:normal;font-family:Menlo,'DejaVu Sans Mono',consolas,'Courier New',monospace\">Manim Community <span style=\"color: #008000; text-decoration-color: #008000\">v0.19.0</span>\n",
       "\n",
       "</pre>\n"
      ],
      "text/plain": [
       "Manim Community \u001b[32mv0.\u001b[0m\u001b[32m19.0\u001b[0m\n",
       "\n"
      ]
     },
     "metadata": {},
     "output_type": "display_data"
    },
    {
     "name": "stderr",
     "output_type": "stream",
     "text": [
      "                                                                              \r"
     ]
    },
    {
     "data": {
      "text/html": [
       "<video src=\"media\\jupyter\\MovingSquare@2025-08-04@21-00-45.mp4\" controls autoplay loop style=\"max-width: 60%;\"  >\n",
       "      Your browser does not support the <code>video</code> element.\n",
       "    </video>"
      ],
      "text/plain": [
       "<IPython.core.display.Video object>"
      ]
     },
     "metadata": {},
     "output_type": "display_data"
    }
   ],
   "source": [
    "%%manim -ql -v WARNING MovingSquare\n",
    "\n",
    "class MovingSquare(Scene):\n",
    "    def construct(self):\n",
    "        triangle = Triangle()\n",
    "        self.play(Create(triangle))\n",
    "        self.play(triangle.animate.shift(LEFT*3))\n",
    "        self.play(triangle.animate.rotate(PI/6))\n",
    "        self.play(FadeTransform(triangle, Square()))\n"
   ]
  },
  {
   "cell_type": "code",
   "execution_count": 7,
   "id": "e3ea19fe",
   "metadata": {},
   "outputs": [
    {
     "data": {
      "text/html": [
       "<pre style=\"white-space:pre;overflow-x:auto;line-height:normal;font-family:Menlo,'DejaVu Sans Mono',consolas,'Courier New',monospace\">Manim Community <span style=\"color: #008000; text-decoration-color: #008000\">v0.19.0</span>\n",
       "\n",
       "</pre>\n"
      ],
      "text/plain": [
       "Manim Community \u001b[32mv0.\u001b[0m\u001b[32m19.0\u001b[0m\n",
       "\n"
      ]
     },
     "metadata": {},
     "output_type": "display_data"
    },
    {
     "name": "stderr",
     "output_type": "stream",
     "text": [
      "                                                                  \r"
     ]
    },
    {
     "data": {
      "text/html": [
       "<pre style=\"white-space:pre;overflow-x:auto;line-height:normal;font-family:Menlo,'DejaVu Sans Mono',consolas,'Courier New',monospace\"><span style=\"color: #7fbfbf; text-decoration-color: #7fbfbf\">[08/04/25 21:00:45] </span><span style=\"color: #800000; text-decoration-color: #800000\">WARNING </span> The original total run_time of <span style=\"color: #800080; text-decoration-color: #800080; font-weight: bold\">NeuralNetwork.play</span><span style=\"font-weight: bold\">()</span>, <span style=\"color: #008000; text-decoration-color: #008000\">0.05</span> seconds, is    <span style=\"color: #7f7f7f; text-decoration-color: #7f7f7f\">scene.py:1044</span>\n",
       "<span style=\"color: #7fbfbf; text-decoration-color: #7fbfbf\">                    </span>         too short for the current frame rate of <span style=\"color: #008000; text-decoration-color: #008000\">15</span> FPS. <span style=\"color: #808000; text-decoration-color: #808000; font-weight: bold\">Rendering</span> with the       <span style=\"color: #7f7f7f; text-decoration-color: #7f7f7f\">             </span>\n",
       "<span style=\"color: #7fbfbf; text-decoration-color: #7fbfbf\">                    </span>         shortest possible total run_time of <span style=\"color: #008000; text-decoration-color: #008000\">0.0666667</span> seconds instead.           <span style=\"color: #7f7f7f; text-decoration-color: #7f7f7f\">             </span>\n",
       "</pre>\n"
      ],
      "text/plain": [
       "\u001b[2;36m[08/04/25 21:00:45]\u001b[0m\u001b[2;36m \u001b[0m\u001b[31mWARNING \u001b[0m The original total run_time of \u001b[1;35mNeuralNetwork.play\u001b[0m\u001b[1m(\u001b[0m\u001b[1m)\u001b[0m, \u001b[32m0.05\u001b[0m seconds, is    \u001b[2mscene.py\u001b[0m\u001b[2m:\u001b[0m\u001b[2m1044\u001b[0m\n",
       "\u001b[2;36m                    \u001b[0m         too short for the current frame rate of \u001b[32m15\u001b[0m FPS. \u001b[1;33mRendering\u001b[0m with the       \u001b[2m             \u001b[0m\n",
       "\u001b[2;36m                    \u001b[0m         shortest possible total run_time of \u001b[32m0.0666667\u001b[0m seconds instead.           \u001b[2m             \u001b[0m\n"
      ]
     },
     "metadata": {},
     "output_type": "display_data"
    },
    {
     "data": {
      "text/html": [
       "<pre style=\"white-space:pre;overflow-x:auto;line-height:normal;font-family:Menlo,'DejaVu Sans Mono',consolas,'Courier New',monospace\"><span style=\"color: #7fbfbf; text-decoration-color: #7fbfbf\">                    </span><span style=\"color: #800000; text-decoration-color: #800000\">WARNING </span> The original total run_time of <span style=\"color: #800080; text-decoration-color: #800080; font-weight: bold\">NeuralNetwork.play</span><span style=\"font-weight: bold\">()</span>, <span style=\"color: #008000; text-decoration-color: #008000\">0.05</span> seconds, is    <span style=\"color: #7f7f7f; text-decoration-color: #7f7f7f\">scene.py:1044</span>\n",
       "<span style=\"color: #7fbfbf; text-decoration-color: #7fbfbf\">                    </span>         too short for the current frame rate of <span style=\"color: #008000; text-decoration-color: #008000\">15</span> FPS. <span style=\"color: #808000; text-decoration-color: #808000; font-weight: bold\">Rendering</span> with the       <span style=\"color: #7f7f7f; text-decoration-color: #7f7f7f\">             </span>\n",
       "<span style=\"color: #7fbfbf; text-decoration-color: #7fbfbf\">                    </span>         shortest possible total run_time of <span style=\"color: #008000; text-decoration-color: #008000\">0.0666667</span> seconds instead.           <span style=\"color: #7f7f7f; text-decoration-color: #7f7f7f\">             </span>\n",
       "</pre>\n"
      ],
      "text/plain": [
       "\u001b[2;36m                   \u001b[0m\u001b[2;36m \u001b[0m\u001b[31mWARNING \u001b[0m The original total run_time of \u001b[1;35mNeuralNetwork.play\u001b[0m\u001b[1m(\u001b[0m\u001b[1m)\u001b[0m, \u001b[32m0.05\u001b[0m seconds, is    \u001b[2mscene.py\u001b[0m\u001b[2m:\u001b[0m\u001b[2m1044\u001b[0m\n",
       "\u001b[2;36m                    \u001b[0m         too short for the current frame rate of \u001b[32m15\u001b[0m FPS. \u001b[1;33mRendering\u001b[0m with the       \u001b[2m             \u001b[0m\n",
       "\u001b[2;36m                    \u001b[0m         shortest possible total run_time of \u001b[32m0.0666667\u001b[0m seconds instead.           \u001b[2m             \u001b[0m\n"
      ]
     },
     "metadata": {},
     "output_type": "display_data"
    },
    {
     "name": "stderr",
     "output_type": "stream",
     "text": [
      "                                                                 \r"
     ]
    },
    {
     "data": {
      "text/html": [
       "<pre style=\"white-space:pre;overflow-x:auto;line-height:normal;font-family:Menlo,'DejaVu Sans Mono',consolas,'Courier New',monospace\"><span style=\"color: #7fbfbf; text-decoration-color: #7fbfbf\">                    </span><span style=\"color: #800000; text-decoration-color: #800000\">WARNING </span> The original total run_time of <span style=\"color: #800080; text-decoration-color: #800080; font-weight: bold\">NeuralNetwork.play</span><span style=\"font-weight: bold\">()</span>, <span style=\"color: #008000; text-decoration-color: #008000\">0.05</span> seconds, is    <span style=\"color: #7f7f7f; text-decoration-color: #7f7f7f\">scene.py:1044</span>\n",
       "<span style=\"color: #7fbfbf; text-decoration-color: #7fbfbf\">                    </span>         too short for the current frame rate of <span style=\"color: #008000; text-decoration-color: #008000\">15</span> FPS. <span style=\"color: #808000; text-decoration-color: #808000; font-weight: bold\">Rendering</span> with the       <span style=\"color: #7f7f7f; text-decoration-color: #7f7f7f\">             </span>\n",
       "<span style=\"color: #7fbfbf; text-decoration-color: #7fbfbf\">                    </span>         shortest possible total run_time of <span style=\"color: #008000; text-decoration-color: #008000\">0.0666667</span> seconds instead.           <span style=\"color: #7f7f7f; text-decoration-color: #7f7f7f\">             </span>\n",
       "</pre>\n"
      ],
      "text/plain": [
       "\u001b[2;36m                   \u001b[0m\u001b[2;36m \u001b[0m\u001b[31mWARNING \u001b[0m The original total run_time of \u001b[1;35mNeuralNetwork.play\u001b[0m\u001b[1m(\u001b[0m\u001b[1m)\u001b[0m, \u001b[32m0.05\u001b[0m seconds, is    \u001b[2mscene.py\u001b[0m\u001b[2m:\u001b[0m\u001b[2m1044\u001b[0m\n",
       "\u001b[2;36m                    \u001b[0m         too short for the current frame rate of \u001b[32m15\u001b[0m FPS. \u001b[1;33mRendering\u001b[0m with the       \u001b[2m             \u001b[0m\n",
       "\u001b[2;36m                    \u001b[0m         shortest possible total run_time of \u001b[32m0.0666667\u001b[0m seconds instead.           \u001b[2m             \u001b[0m\n"
      ]
     },
     "metadata": {},
     "output_type": "display_data"
    },
    {
     "data": {
      "text/html": [
       "<pre style=\"white-space:pre;overflow-x:auto;line-height:normal;font-family:Menlo,'DejaVu Sans Mono',consolas,'Courier New',monospace\"><span style=\"color: #7fbfbf; text-decoration-color: #7fbfbf\">                    </span><span style=\"color: #800000; text-decoration-color: #800000\">WARNING </span> The original total run_time of <span style=\"color: #800080; text-decoration-color: #800080; font-weight: bold\">NeuralNetwork.play</span><span style=\"font-weight: bold\">()</span>, <span style=\"color: #008000; text-decoration-color: #008000\">0.05</span> seconds, is    <span style=\"color: #7f7f7f; text-decoration-color: #7f7f7f\">scene.py:1044</span>\n",
       "<span style=\"color: #7fbfbf; text-decoration-color: #7fbfbf\">                    </span>         too short for the current frame rate of <span style=\"color: #008000; text-decoration-color: #008000\">15</span> FPS. <span style=\"color: #808000; text-decoration-color: #808000; font-weight: bold\">Rendering</span> with the       <span style=\"color: #7f7f7f; text-decoration-color: #7f7f7f\">             </span>\n",
       "<span style=\"color: #7fbfbf; text-decoration-color: #7fbfbf\">                    </span>         shortest possible total run_time of <span style=\"color: #008000; text-decoration-color: #008000\">0.0666667</span> seconds instead.           <span style=\"color: #7f7f7f; text-decoration-color: #7f7f7f\">             </span>\n",
       "</pre>\n"
      ],
      "text/plain": [
       "\u001b[2;36m                   \u001b[0m\u001b[2;36m \u001b[0m\u001b[31mWARNING \u001b[0m The original total run_time of \u001b[1;35mNeuralNetwork.play\u001b[0m\u001b[1m(\u001b[0m\u001b[1m)\u001b[0m, \u001b[32m0.05\u001b[0m seconds, is    \u001b[2mscene.py\u001b[0m\u001b[2m:\u001b[0m\u001b[2m1044\u001b[0m\n",
       "\u001b[2;36m                    \u001b[0m         too short for the current frame rate of \u001b[32m15\u001b[0m FPS. \u001b[1;33mRendering\u001b[0m with the       \u001b[2m             \u001b[0m\n",
       "\u001b[2;36m                    \u001b[0m         shortest possible total run_time of \u001b[32m0.0666667\u001b[0m seconds instead.           \u001b[2m             \u001b[0m\n"
      ]
     },
     "metadata": {},
     "output_type": "display_data"
    },
    {
     "name": "stderr",
     "output_type": "stream",
     "text": [
      "                                                                 \r"
     ]
    },
    {
     "data": {
      "text/html": [
       "<pre style=\"white-space:pre;overflow-x:auto;line-height:normal;font-family:Menlo,'DejaVu Sans Mono',consolas,'Courier New',monospace\"><span style=\"color: #7fbfbf; text-decoration-color: #7fbfbf\">                    </span><span style=\"color: #800000; text-decoration-color: #800000\">WARNING </span> The original total run_time of <span style=\"color: #800080; text-decoration-color: #800080; font-weight: bold\">NeuralNetwork.play</span><span style=\"font-weight: bold\">()</span>, <span style=\"color: #008000; text-decoration-color: #008000\">0.05</span> seconds, is    <span style=\"color: #7f7f7f; text-decoration-color: #7f7f7f\">scene.py:1044</span>\n",
       "<span style=\"color: #7fbfbf; text-decoration-color: #7fbfbf\">                    </span>         too short for the current frame rate of <span style=\"color: #008000; text-decoration-color: #008000\">15</span> FPS. <span style=\"color: #808000; text-decoration-color: #808000; font-weight: bold\">Rendering</span> with the       <span style=\"color: #7f7f7f; text-decoration-color: #7f7f7f\">             </span>\n",
       "<span style=\"color: #7fbfbf; text-decoration-color: #7fbfbf\">                    </span>         shortest possible total run_time of <span style=\"color: #008000; text-decoration-color: #008000\">0.0666667</span> seconds instead.           <span style=\"color: #7f7f7f; text-decoration-color: #7f7f7f\">             </span>\n",
       "</pre>\n"
      ],
      "text/plain": [
       "\u001b[2;36m                   \u001b[0m\u001b[2;36m \u001b[0m\u001b[31mWARNING \u001b[0m The original total run_time of \u001b[1;35mNeuralNetwork.play\u001b[0m\u001b[1m(\u001b[0m\u001b[1m)\u001b[0m, \u001b[32m0.05\u001b[0m seconds, is    \u001b[2mscene.py\u001b[0m\u001b[2m:\u001b[0m\u001b[2m1044\u001b[0m\n",
       "\u001b[2;36m                    \u001b[0m         too short for the current frame rate of \u001b[32m15\u001b[0m FPS. \u001b[1;33mRendering\u001b[0m with the       \u001b[2m             \u001b[0m\n",
       "\u001b[2;36m                    \u001b[0m         shortest possible total run_time of \u001b[32m0.0666667\u001b[0m seconds instead.           \u001b[2m             \u001b[0m\n"
      ]
     },
     "metadata": {},
     "output_type": "display_data"
    },
    {
     "data": {
      "text/html": [
       "<pre style=\"white-space:pre;overflow-x:auto;line-height:normal;font-family:Menlo,'DejaVu Sans Mono',consolas,'Courier New',monospace\"><span style=\"color: #7fbfbf; text-decoration-color: #7fbfbf\">                    </span><span style=\"color: #800000; text-decoration-color: #800000\">WARNING </span> The original total run_time of <span style=\"color: #800080; text-decoration-color: #800080; font-weight: bold\">NeuralNetwork.play</span><span style=\"font-weight: bold\">()</span>, <span style=\"color: #008000; text-decoration-color: #008000\">0.05</span> seconds, is    <span style=\"color: #7f7f7f; text-decoration-color: #7f7f7f\">scene.py:1044</span>\n",
       "<span style=\"color: #7fbfbf; text-decoration-color: #7fbfbf\">                    </span>         too short for the current frame rate of <span style=\"color: #008000; text-decoration-color: #008000\">15</span> FPS. <span style=\"color: #808000; text-decoration-color: #808000; font-weight: bold\">Rendering</span> with the       <span style=\"color: #7f7f7f; text-decoration-color: #7f7f7f\">             </span>\n",
       "<span style=\"color: #7fbfbf; text-decoration-color: #7fbfbf\">                    </span>         shortest possible total run_time of <span style=\"color: #008000; text-decoration-color: #008000\">0.0666667</span> seconds instead.           <span style=\"color: #7f7f7f; text-decoration-color: #7f7f7f\">             </span>\n",
       "</pre>\n"
      ],
      "text/plain": [
       "\u001b[2;36m                   \u001b[0m\u001b[2;36m \u001b[0m\u001b[31mWARNING \u001b[0m The original total run_time of \u001b[1;35mNeuralNetwork.play\u001b[0m\u001b[1m(\u001b[0m\u001b[1m)\u001b[0m, \u001b[32m0.05\u001b[0m seconds, is    \u001b[2mscene.py\u001b[0m\u001b[2m:\u001b[0m\u001b[2m1044\u001b[0m\n",
       "\u001b[2;36m                    \u001b[0m         too short for the current frame rate of \u001b[32m15\u001b[0m FPS. \u001b[1;33mRendering\u001b[0m with the       \u001b[2m             \u001b[0m\n",
       "\u001b[2;36m                    \u001b[0m         shortest possible total run_time of \u001b[32m0.0666667\u001b[0m seconds instead.           \u001b[2m             \u001b[0m\n"
      ]
     },
     "metadata": {},
     "output_type": "display_data"
    },
    {
     "name": "stderr",
     "output_type": "stream",
     "text": [
      "                                                                 \r"
     ]
    },
    {
     "data": {
      "text/html": [
       "<pre style=\"white-space:pre;overflow-x:auto;line-height:normal;font-family:Menlo,'DejaVu Sans Mono',consolas,'Courier New',monospace\"><span style=\"color: #7fbfbf; text-decoration-color: #7fbfbf\">                    </span><span style=\"color: #800000; text-decoration-color: #800000\">WARNING </span> The original total run_time of <span style=\"color: #800080; text-decoration-color: #800080; font-weight: bold\">NeuralNetwork.play</span><span style=\"font-weight: bold\">()</span>, <span style=\"color: #008000; text-decoration-color: #008000\">0.05</span> seconds, is    <span style=\"color: #7f7f7f; text-decoration-color: #7f7f7f\">scene.py:1044</span>\n",
       "<span style=\"color: #7fbfbf; text-decoration-color: #7fbfbf\">                    </span>         too short for the current frame rate of <span style=\"color: #008000; text-decoration-color: #008000\">15</span> FPS. <span style=\"color: #808000; text-decoration-color: #808000; font-weight: bold\">Rendering</span> with the       <span style=\"color: #7f7f7f; text-decoration-color: #7f7f7f\">             </span>\n",
       "<span style=\"color: #7fbfbf; text-decoration-color: #7fbfbf\">                    </span>         shortest possible total run_time of <span style=\"color: #008000; text-decoration-color: #008000\">0.0666667</span> seconds instead.           <span style=\"color: #7f7f7f; text-decoration-color: #7f7f7f\">             </span>\n",
       "</pre>\n"
      ],
      "text/plain": [
       "\u001b[2;36m                   \u001b[0m\u001b[2;36m \u001b[0m\u001b[31mWARNING \u001b[0m The original total run_time of \u001b[1;35mNeuralNetwork.play\u001b[0m\u001b[1m(\u001b[0m\u001b[1m)\u001b[0m, \u001b[32m0.05\u001b[0m seconds, is    \u001b[2mscene.py\u001b[0m\u001b[2m:\u001b[0m\u001b[2m1044\u001b[0m\n",
       "\u001b[2;36m                    \u001b[0m         too short for the current frame rate of \u001b[32m15\u001b[0m FPS. \u001b[1;33mRendering\u001b[0m with the       \u001b[2m             \u001b[0m\n",
       "\u001b[2;36m                    \u001b[0m         shortest possible total run_time of \u001b[32m0.0666667\u001b[0m seconds instead.           \u001b[2m             \u001b[0m\n"
      ]
     },
     "metadata": {},
     "output_type": "display_data"
    },
    {
     "data": {
      "text/html": [
       "<pre style=\"white-space:pre;overflow-x:auto;line-height:normal;font-family:Menlo,'DejaVu Sans Mono',consolas,'Courier New',monospace\"><span style=\"color: #7fbfbf; text-decoration-color: #7fbfbf\">                    </span><span style=\"color: #800000; text-decoration-color: #800000\">WARNING </span> The original total run_time of <span style=\"color: #800080; text-decoration-color: #800080; font-weight: bold\">NeuralNetwork.play</span><span style=\"font-weight: bold\">()</span>, <span style=\"color: #008000; text-decoration-color: #008000\">0.05</span> seconds, is    <span style=\"color: #7f7f7f; text-decoration-color: #7f7f7f\">scene.py:1044</span>\n",
       "<span style=\"color: #7fbfbf; text-decoration-color: #7fbfbf\">                    </span>         too short for the current frame rate of <span style=\"color: #008000; text-decoration-color: #008000\">15</span> FPS. <span style=\"color: #808000; text-decoration-color: #808000; font-weight: bold\">Rendering</span> with the       <span style=\"color: #7f7f7f; text-decoration-color: #7f7f7f\">             </span>\n",
       "<span style=\"color: #7fbfbf; text-decoration-color: #7fbfbf\">                    </span>         shortest possible total run_time of <span style=\"color: #008000; text-decoration-color: #008000\">0.0666667</span> seconds instead.           <span style=\"color: #7f7f7f; text-decoration-color: #7f7f7f\">             </span>\n",
       "</pre>\n"
      ],
      "text/plain": [
       "\u001b[2;36m                   \u001b[0m\u001b[2;36m \u001b[0m\u001b[31mWARNING \u001b[0m The original total run_time of \u001b[1;35mNeuralNetwork.play\u001b[0m\u001b[1m(\u001b[0m\u001b[1m)\u001b[0m, \u001b[32m0.05\u001b[0m seconds, is    \u001b[2mscene.py\u001b[0m\u001b[2m:\u001b[0m\u001b[2m1044\u001b[0m\n",
       "\u001b[2;36m                    \u001b[0m         too short for the current frame rate of \u001b[32m15\u001b[0m FPS. \u001b[1;33mRendering\u001b[0m with the       \u001b[2m             \u001b[0m\n",
       "\u001b[2;36m                    \u001b[0m         shortest possible total run_time of \u001b[32m0.0666667\u001b[0m seconds instead.           \u001b[2m             \u001b[0m\n"
      ]
     },
     "metadata": {},
     "output_type": "display_data"
    },
    {
     "name": "stderr",
     "output_type": "stream",
     "text": [
      "                                                                 \r"
     ]
    },
    {
     "data": {
      "text/html": [
       "<pre style=\"white-space:pre;overflow-x:auto;line-height:normal;font-family:Menlo,'DejaVu Sans Mono',consolas,'Courier New',monospace\"><span style=\"color: #7fbfbf; text-decoration-color: #7fbfbf\">                    </span><span style=\"color: #800000; text-decoration-color: #800000\">WARNING </span> The original total run_time of <span style=\"color: #800080; text-decoration-color: #800080; font-weight: bold\">NeuralNetwork.play</span><span style=\"font-weight: bold\">()</span>, <span style=\"color: #008000; text-decoration-color: #008000\">0.05</span> seconds, is    <span style=\"color: #7f7f7f; text-decoration-color: #7f7f7f\">scene.py:1044</span>\n",
       "<span style=\"color: #7fbfbf; text-decoration-color: #7fbfbf\">                    </span>         too short for the current frame rate of <span style=\"color: #008000; text-decoration-color: #008000\">15</span> FPS. <span style=\"color: #808000; text-decoration-color: #808000; font-weight: bold\">Rendering</span> with the       <span style=\"color: #7f7f7f; text-decoration-color: #7f7f7f\">             </span>\n",
       "<span style=\"color: #7fbfbf; text-decoration-color: #7fbfbf\">                    </span>         shortest possible total run_time of <span style=\"color: #008000; text-decoration-color: #008000\">0.0666667</span> seconds instead.           <span style=\"color: #7f7f7f; text-decoration-color: #7f7f7f\">             </span>\n",
       "</pre>\n"
      ],
      "text/plain": [
       "\u001b[2;36m                   \u001b[0m\u001b[2;36m \u001b[0m\u001b[31mWARNING \u001b[0m The original total run_time of \u001b[1;35mNeuralNetwork.play\u001b[0m\u001b[1m(\u001b[0m\u001b[1m)\u001b[0m, \u001b[32m0.05\u001b[0m seconds, is    \u001b[2mscene.py\u001b[0m\u001b[2m:\u001b[0m\u001b[2m1044\u001b[0m\n",
       "\u001b[2;36m                    \u001b[0m         too short for the current frame rate of \u001b[32m15\u001b[0m FPS. \u001b[1;33mRendering\u001b[0m with the       \u001b[2m             \u001b[0m\n",
       "\u001b[2;36m                    \u001b[0m         shortest possible total run_time of \u001b[32m0.0666667\u001b[0m seconds instead.           \u001b[2m             \u001b[0m\n"
      ]
     },
     "metadata": {},
     "output_type": "display_data"
    },
    {
     "data": {
      "text/html": [
       "<pre style=\"white-space:pre;overflow-x:auto;line-height:normal;font-family:Menlo,'DejaVu Sans Mono',consolas,'Courier New',monospace\"><span style=\"color: #7fbfbf; text-decoration-color: #7fbfbf\">                    </span><span style=\"color: #800000; text-decoration-color: #800000\">WARNING </span> The original total run_time of <span style=\"color: #800080; text-decoration-color: #800080; font-weight: bold\">NeuralNetwork.play</span><span style=\"font-weight: bold\">()</span>, <span style=\"color: #008000; text-decoration-color: #008000\">0.05</span> seconds, is    <span style=\"color: #7f7f7f; text-decoration-color: #7f7f7f\">scene.py:1044</span>\n",
       "<span style=\"color: #7fbfbf; text-decoration-color: #7fbfbf\">                    </span>         too short for the current frame rate of <span style=\"color: #008000; text-decoration-color: #008000\">15</span> FPS. <span style=\"color: #808000; text-decoration-color: #808000; font-weight: bold\">Rendering</span> with the       <span style=\"color: #7f7f7f; text-decoration-color: #7f7f7f\">             </span>\n",
       "<span style=\"color: #7fbfbf; text-decoration-color: #7fbfbf\">                    </span>         shortest possible total run_time of <span style=\"color: #008000; text-decoration-color: #008000\">0.0666667</span> seconds instead.           <span style=\"color: #7f7f7f; text-decoration-color: #7f7f7f\">             </span>\n",
       "</pre>\n"
      ],
      "text/plain": [
       "\u001b[2;36m                   \u001b[0m\u001b[2;36m \u001b[0m\u001b[31mWARNING \u001b[0m The original total run_time of \u001b[1;35mNeuralNetwork.play\u001b[0m\u001b[1m(\u001b[0m\u001b[1m)\u001b[0m, \u001b[32m0.05\u001b[0m seconds, is    \u001b[2mscene.py\u001b[0m\u001b[2m:\u001b[0m\u001b[2m1044\u001b[0m\n",
       "\u001b[2;36m                    \u001b[0m         too short for the current frame rate of \u001b[32m15\u001b[0m FPS. \u001b[1;33mRendering\u001b[0m with the       \u001b[2m             \u001b[0m\n",
       "\u001b[2;36m                    \u001b[0m         shortest possible total run_time of \u001b[32m0.0666667\u001b[0m seconds instead.           \u001b[2m             \u001b[0m\n"
      ]
     },
     "metadata": {},
     "output_type": "display_data"
    },
    {
     "name": "stderr",
     "output_type": "stream",
     "text": [
      "                                                                 \r"
     ]
    },
    {
     "data": {
      "text/html": [
       "<pre style=\"white-space:pre;overflow-x:auto;line-height:normal;font-family:Menlo,'DejaVu Sans Mono',consolas,'Courier New',monospace\"><span style=\"color: #7fbfbf; text-decoration-color: #7fbfbf\">                    </span><span style=\"color: #800000; text-decoration-color: #800000\">WARNING </span> The original total run_time of <span style=\"color: #800080; text-decoration-color: #800080; font-weight: bold\">NeuralNetwork.play</span><span style=\"font-weight: bold\">()</span>, <span style=\"color: #008000; text-decoration-color: #008000\">0.05</span> seconds, is    <span style=\"color: #7f7f7f; text-decoration-color: #7f7f7f\">scene.py:1044</span>\n",
       "<span style=\"color: #7fbfbf; text-decoration-color: #7fbfbf\">                    </span>         too short for the current frame rate of <span style=\"color: #008000; text-decoration-color: #008000\">15</span> FPS. <span style=\"color: #808000; text-decoration-color: #808000; font-weight: bold\">Rendering</span> with the       <span style=\"color: #7f7f7f; text-decoration-color: #7f7f7f\">             </span>\n",
       "<span style=\"color: #7fbfbf; text-decoration-color: #7fbfbf\">                    </span>         shortest possible total run_time of <span style=\"color: #008000; text-decoration-color: #008000\">0.0666667</span> seconds instead.           <span style=\"color: #7f7f7f; text-decoration-color: #7f7f7f\">             </span>\n",
       "</pre>\n"
      ],
      "text/plain": [
       "\u001b[2;36m                   \u001b[0m\u001b[2;36m \u001b[0m\u001b[31mWARNING \u001b[0m The original total run_time of \u001b[1;35mNeuralNetwork.play\u001b[0m\u001b[1m(\u001b[0m\u001b[1m)\u001b[0m, \u001b[32m0.05\u001b[0m seconds, is    \u001b[2mscene.py\u001b[0m\u001b[2m:\u001b[0m\u001b[2m1044\u001b[0m\n",
       "\u001b[2;36m                    \u001b[0m         too short for the current frame rate of \u001b[32m15\u001b[0m FPS. \u001b[1;33mRendering\u001b[0m with the       \u001b[2m             \u001b[0m\n",
       "\u001b[2;36m                    \u001b[0m         shortest possible total run_time of \u001b[32m0.0666667\u001b[0m seconds instead.           \u001b[2m             \u001b[0m\n"
      ]
     },
     "metadata": {},
     "output_type": "display_data"
    },
    {
     "data": {
      "text/html": [
       "<pre style=\"white-space:pre;overflow-x:auto;line-height:normal;font-family:Menlo,'DejaVu Sans Mono',consolas,'Courier New',monospace\"><span style=\"color: #7fbfbf; text-decoration-color: #7fbfbf\">                    </span><span style=\"color: #800000; text-decoration-color: #800000\">WARNING </span> The original total run_time of <span style=\"color: #800080; text-decoration-color: #800080; font-weight: bold\">NeuralNetwork.play</span><span style=\"font-weight: bold\">()</span>, <span style=\"color: #008000; text-decoration-color: #008000\">0.05</span> seconds, is    <span style=\"color: #7f7f7f; text-decoration-color: #7f7f7f\">scene.py:1044</span>\n",
       "<span style=\"color: #7fbfbf; text-decoration-color: #7fbfbf\">                    </span>         too short for the current frame rate of <span style=\"color: #008000; text-decoration-color: #008000\">15</span> FPS. <span style=\"color: #808000; text-decoration-color: #808000; font-weight: bold\">Rendering</span> with the       <span style=\"color: #7f7f7f; text-decoration-color: #7f7f7f\">             </span>\n",
       "<span style=\"color: #7fbfbf; text-decoration-color: #7fbfbf\">                    </span>         shortest possible total run_time of <span style=\"color: #008000; text-decoration-color: #008000\">0.0666667</span> seconds instead.           <span style=\"color: #7f7f7f; text-decoration-color: #7f7f7f\">             </span>\n",
       "</pre>\n"
      ],
      "text/plain": [
       "\u001b[2;36m                   \u001b[0m\u001b[2;36m \u001b[0m\u001b[31mWARNING \u001b[0m The original total run_time of \u001b[1;35mNeuralNetwork.play\u001b[0m\u001b[1m(\u001b[0m\u001b[1m)\u001b[0m, \u001b[32m0.05\u001b[0m seconds, is    \u001b[2mscene.py\u001b[0m\u001b[2m:\u001b[0m\u001b[2m1044\u001b[0m\n",
       "\u001b[2;36m                    \u001b[0m         too short for the current frame rate of \u001b[32m15\u001b[0m FPS. \u001b[1;33mRendering\u001b[0m with the       \u001b[2m             \u001b[0m\n",
       "\u001b[2;36m                    \u001b[0m         shortest possible total run_time of \u001b[32m0.0666667\u001b[0m seconds instead.           \u001b[2m             \u001b[0m\n"
      ]
     },
     "metadata": {},
     "output_type": "display_data"
    },
    {
     "name": "stderr",
     "output_type": "stream",
     "text": [
      "                                                                 \r"
     ]
    },
    {
     "data": {
      "text/html": [
       "<pre style=\"white-space:pre;overflow-x:auto;line-height:normal;font-family:Menlo,'DejaVu Sans Mono',consolas,'Courier New',monospace\"><span style=\"color: #7fbfbf; text-decoration-color: #7fbfbf\">                    </span><span style=\"color: #800000; text-decoration-color: #800000\">WARNING </span> The original total run_time of <span style=\"color: #800080; text-decoration-color: #800080; font-weight: bold\">NeuralNetwork.play</span><span style=\"font-weight: bold\">()</span>, <span style=\"color: #008000; text-decoration-color: #008000\">0.05</span> seconds, is    <span style=\"color: #7f7f7f; text-decoration-color: #7f7f7f\">scene.py:1044</span>\n",
       "<span style=\"color: #7fbfbf; text-decoration-color: #7fbfbf\">                    </span>         too short for the current frame rate of <span style=\"color: #008000; text-decoration-color: #008000\">15</span> FPS. <span style=\"color: #808000; text-decoration-color: #808000; font-weight: bold\">Rendering</span> with the       <span style=\"color: #7f7f7f; text-decoration-color: #7f7f7f\">             </span>\n",
       "<span style=\"color: #7fbfbf; text-decoration-color: #7fbfbf\">                    </span>         shortest possible total run_time of <span style=\"color: #008000; text-decoration-color: #008000\">0.0666667</span> seconds instead.           <span style=\"color: #7f7f7f; text-decoration-color: #7f7f7f\">             </span>\n",
       "</pre>\n"
      ],
      "text/plain": [
       "\u001b[2;36m                   \u001b[0m\u001b[2;36m \u001b[0m\u001b[31mWARNING \u001b[0m The original total run_time of \u001b[1;35mNeuralNetwork.play\u001b[0m\u001b[1m(\u001b[0m\u001b[1m)\u001b[0m, \u001b[32m0.05\u001b[0m seconds, is    \u001b[2mscene.py\u001b[0m\u001b[2m:\u001b[0m\u001b[2m1044\u001b[0m\n",
       "\u001b[2;36m                    \u001b[0m         too short for the current frame rate of \u001b[32m15\u001b[0m FPS. \u001b[1;33mRendering\u001b[0m with the       \u001b[2m             \u001b[0m\n",
       "\u001b[2;36m                    \u001b[0m         shortest possible total run_time of \u001b[32m0.0666667\u001b[0m seconds instead.           \u001b[2m             \u001b[0m\n"
      ]
     },
     "metadata": {},
     "output_type": "display_data"
    },
    {
     "data": {
      "text/html": [
       "<pre style=\"white-space:pre;overflow-x:auto;line-height:normal;font-family:Menlo,'DejaVu Sans Mono',consolas,'Courier New',monospace\"><span style=\"color: #7fbfbf; text-decoration-color: #7fbfbf\">                    </span><span style=\"color: #800000; text-decoration-color: #800000\">WARNING </span> The original total run_time of <span style=\"color: #800080; text-decoration-color: #800080; font-weight: bold\">NeuralNetwork.play</span><span style=\"font-weight: bold\">()</span>, <span style=\"color: #008000; text-decoration-color: #008000\">0.05</span> seconds, is    <span style=\"color: #7f7f7f; text-decoration-color: #7f7f7f\">scene.py:1044</span>\n",
       "<span style=\"color: #7fbfbf; text-decoration-color: #7fbfbf\">                    </span>         too short for the current frame rate of <span style=\"color: #008000; text-decoration-color: #008000\">15</span> FPS. <span style=\"color: #808000; text-decoration-color: #808000; font-weight: bold\">Rendering</span> with the       <span style=\"color: #7f7f7f; text-decoration-color: #7f7f7f\">             </span>\n",
       "<span style=\"color: #7fbfbf; text-decoration-color: #7fbfbf\">                    </span>         shortest possible total run_time of <span style=\"color: #008000; text-decoration-color: #008000\">0.0666667</span> seconds instead.           <span style=\"color: #7f7f7f; text-decoration-color: #7f7f7f\">             </span>\n",
       "</pre>\n"
      ],
      "text/plain": [
       "\u001b[2;36m                   \u001b[0m\u001b[2;36m \u001b[0m\u001b[31mWARNING \u001b[0m The original total run_time of \u001b[1;35mNeuralNetwork.play\u001b[0m\u001b[1m(\u001b[0m\u001b[1m)\u001b[0m, \u001b[32m0.05\u001b[0m seconds, is    \u001b[2mscene.py\u001b[0m\u001b[2m:\u001b[0m\u001b[2m1044\u001b[0m\n",
       "\u001b[2;36m                    \u001b[0m         too short for the current frame rate of \u001b[32m15\u001b[0m FPS. \u001b[1;33mRendering\u001b[0m with the       \u001b[2m             \u001b[0m\n",
       "\u001b[2;36m                    \u001b[0m         shortest possible total run_time of \u001b[32m0.0666667\u001b[0m seconds instead.           \u001b[2m             \u001b[0m\n"
      ]
     },
     "metadata": {},
     "output_type": "display_data"
    },
    {
     "name": "stderr",
     "output_type": "stream",
     "text": [
      "                                                                 \r"
     ]
    },
    {
     "data": {
      "text/html": [
       "<pre style=\"white-space:pre;overflow-x:auto;line-height:normal;font-family:Menlo,'DejaVu Sans Mono',consolas,'Courier New',monospace\"><span style=\"color: #7fbfbf; text-decoration-color: #7fbfbf\">                    </span><span style=\"color: #800000; text-decoration-color: #800000\">WARNING </span> The original total run_time of <span style=\"color: #800080; text-decoration-color: #800080; font-weight: bold\">NeuralNetwork.play</span><span style=\"font-weight: bold\">()</span>, <span style=\"color: #008000; text-decoration-color: #008000\">0.05</span> seconds, is    <span style=\"color: #7f7f7f; text-decoration-color: #7f7f7f\">scene.py:1044</span>\n",
       "<span style=\"color: #7fbfbf; text-decoration-color: #7fbfbf\">                    </span>         too short for the current frame rate of <span style=\"color: #008000; text-decoration-color: #008000\">15</span> FPS. <span style=\"color: #808000; text-decoration-color: #808000; font-weight: bold\">Rendering</span> with the       <span style=\"color: #7f7f7f; text-decoration-color: #7f7f7f\">             </span>\n",
       "<span style=\"color: #7fbfbf; text-decoration-color: #7fbfbf\">                    </span>         shortest possible total run_time of <span style=\"color: #008000; text-decoration-color: #008000\">0.0666667</span> seconds instead.           <span style=\"color: #7f7f7f; text-decoration-color: #7f7f7f\">             </span>\n",
       "</pre>\n"
      ],
      "text/plain": [
       "\u001b[2;36m                   \u001b[0m\u001b[2;36m \u001b[0m\u001b[31mWARNING \u001b[0m The original total run_time of \u001b[1;35mNeuralNetwork.play\u001b[0m\u001b[1m(\u001b[0m\u001b[1m)\u001b[0m, \u001b[32m0.05\u001b[0m seconds, is    \u001b[2mscene.py\u001b[0m\u001b[2m:\u001b[0m\u001b[2m1044\u001b[0m\n",
       "\u001b[2;36m                    \u001b[0m         too short for the current frame rate of \u001b[32m15\u001b[0m FPS. \u001b[1;33mRendering\u001b[0m with the       \u001b[2m             \u001b[0m\n",
       "\u001b[2;36m                    \u001b[0m         shortest possible total run_time of \u001b[32m0.0666667\u001b[0m seconds instead.           \u001b[2m             \u001b[0m\n"
      ]
     },
     "metadata": {},
     "output_type": "display_data"
    },
    {
     "data": {
      "text/html": [
       "<pre style=\"white-space:pre;overflow-x:auto;line-height:normal;font-family:Menlo,'DejaVu Sans Mono',consolas,'Courier New',monospace\"><span style=\"color: #7fbfbf; text-decoration-color: #7fbfbf\">                    </span><span style=\"color: #800000; text-decoration-color: #800000\">WARNING </span> The original total run_time of <span style=\"color: #800080; text-decoration-color: #800080; font-weight: bold\">NeuralNetwork.play</span><span style=\"font-weight: bold\">()</span>, <span style=\"color: #008000; text-decoration-color: #008000\">0.05</span> seconds, is    <span style=\"color: #7f7f7f; text-decoration-color: #7f7f7f\">scene.py:1044</span>\n",
       "<span style=\"color: #7fbfbf; text-decoration-color: #7fbfbf\">                    </span>         too short for the current frame rate of <span style=\"color: #008000; text-decoration-color: #008000\">15</span> FPS. <span style=\"color: #808000; text-decoration-color: #808000; font-weight: bold\">Rendering</span> with the       <span style=\"color: #7f7f7f; text-decoration-color: #7f7f7f\">             </span>\n",
       "<span style=\"color: #7fbfbf; text-decoration-color: #7fbfbf\">                    </span>         shortest possible total run_time of <span style=\"color: #008000; text-decoration-color: #008000\">0.0666667</span> seconds instead.           <span style=\"color: #7f7f7f; text-decoration-color: #7f7f7f\">             </span>\n",
       "</pre>\n"
      ],
      "text/plain": [
       "\u001b[2;36m                   \u001b[0m\u001b[2;36m \u001b[0m\u001b[31mWARNING \u001b[0m The original total run_time of \u001b[1;35mNeuralNetwork.play\u001b[0m\u001b[1m(\u001b[0m\u001b[1m)\u001b[0m, \u001b[32m0.05\u001b[0m seconds, is    \u001b[2mscene.py\u001b[0m\u001b[2m:\u001b[0m\u001b[2m1044\u001b[0m\n",
       "\u001b[2;36m                    \u001b[0m         too short for the current frame rate of \u001b[32m15\u001b[0m FPS. \u001b[1;33mRendering\u001b[0m with the       \u001b[2m             \u001b[0m\n",
       "\u001b[2;36m                    \u001b[0m         shortest possible total run_time of \u001b[32m0.0666667\u001b[0m seconds instead.           \u001b[2m             \u001b[0m\n"
      ]
     },
     "metadata": {},
     "output_type": "display_data"
    },
    {
     "name": "stderr",
     "output_type": "stream",
     "text": [
      "                                                                 \r"
     ]
    },
    {
     "data": {
      "text/html": [
       "<pre style=\"white-space:pre;overflow-x:auto;line-height:normal;font-family:Menlo,'DejaVu Sans Mono',consolas,'Courier New',monospace\"><span style=\"color: #7fbfbf; text-decoration-color: #7fbfbf\">                    </span><span style=\"color: #800000; text-decoration-color: #800000\">WARNING </span> The original total run_time of <span style=\"color: #800080; text-decoration-color: #800080; font-weight: bold\">NeuralNetwork.play</span><span style=\"font-weight: bold\">()</span>, <span style=\"color: #008000; text-decoration-color: #008000\">0.05</span> seconds, is    <span style=\"color: #7f7f7f; text-decoration-color: #7f7f7f\">scene.py:1044</span>\n",
       "<span style=\"color: #7fbfbf; text-decoration-color: #7fbfbf\">                    </span>         too short for the current frame rate of <span style=\"color: #008000; text-decoration-color: #008000\">15</span> FPS. <span style=\"color: #808000; text-decoration-color: #808000; font-weight: bold\">Rendering</span> with the       <span style=\"color: #7f7f7f; text-decoration-color: #7f7f7f\">             </span>\n",
       "<span style=\"color: #7fbfbf; text-decoration-color: #7fbfbf\">                    </span>         shortest possible total run_time of <span style=\"color: #008000; text-decoration-color: #008000\">0.0666667</span> seconds instead.           <span style=\"color: #7f7f7f; text-decoration-color: #7f7f7f\">             </span>\n",
       "</pre>\n"
      ],
      "text/plain": [
       "\u001b[2;36m                   \u001b[0m\u001b[2;36m \u001b[0m\u001b[31mWARNING \u001b[0m The original total run_time of \u001b[1;35mNeuralNetwork.play\u001b[0m\u001b[1m(\u001b[0m\u001b[1m)\u001b[0m, \u001b[32m0.05\u001b[0m seconds, is    \u001b[2mscene.py\u001b[0m\u001b[2m:\u001b[0m\u001b[2m1044\u001b[0m\n",
       "\u001b[2;36m                    \u001b[0m         too short for the current frame rate of \u001b[32m15\u001b[0m FPS. \u001b[1;33mRendering\u001b[0m with the       \u001b[2m             \u001b[0m\n",
       "\u001b[2;36m                    \u001b[0m         shortest possible total run_time of \u001b[32m0.0666667\u001b[0m seconds instead.           \u001b[2m             \u001b[0m\n"
      ]
     },
     "metadata": {},
     "output_type": "display_data"
    },
    {
     "data": {
      "text/html": [
       "<pre style=\"white-space:pre;overflow-x:auto;line-height:normal;font-family:Menlo,'DejaVu Sans Mono',consolas,'Courier New',monospace\"><span style=\"color: #7fbfbf; text-decoration-color: #7fbfbf\">                    </span><span style=\"color: #800000; text-decoration-color: #800000\">WARNING </span> The original total run_time of <span style=\"color: #800080; text-decoration-color: #800080; font-weight: bold\">NeuralNetwork.play</span><span style=\"font-weight: bold\">()</span>, <span style=\"color: #008000; text-decoration-color: #008000\">0.05</span> seconds, is    <span style=\"color: #7f7f7f; text-decoration-color: #7f7f7f\">scene.py:1044</span>\n",
       "<span style=\"color: #7fbfbf; text-decoration-color: #7fbfbf\">                    </span>         too short for the current frame rate of <span style=\"color: #008000; text-decoration-color: #008000\">15</span> FPS. <span style=\"color: #808000; text-decoration-color: #808000; font-weight: bold\">Rendering</span> with the       <span style=\"color: #7f7f7f; text-decoration-color: #7f7f7f\">             </span>\n",
       "<span style=\"color: #7fbfbf; text-decoration-color: #7fbfbf\">                    </span>         shortest possible total run_time of <span style=\"color: #008000; text-decoration-color: #008000\">0.0666667</span> seconds instead.           <span style=\"color: #7f7f7f; text-decoration-color: #7f7f7f\">             </span>\n",
       "</pre>\n"
      ],
      "text/plain": [
       "\u001b[2;36m                   \u001b[0m\u001b[2;36m \u001b[0m\u001b[31mWARNING \u001b[0m The original total run_time of \u001b[1;35mNeuralNetwork.play\u001b[0m\u001b[1m(\u001b[0m\u001b[1m)\u001b[0m, \u001b[32m0.05\u001b[0m seconds, is    \u001b[2mscene.py\u001b[0m\u001b[2m:\u001b[0m\u001b[2m1044\u001b[0m\n",
       "\u001b[2;36m                    \u001b[0m         too short for the current frame rate of \u001b[32m15\u001b[0m FPS. \u001b[1;33mRendering\u001b[0m with the       \u001b[2m             \u001b[0m\n",
       "\u001b[2;36m                    \u001b[0m         shortest possible total run_time of \u001b[32m0.0666667\u001b[0m seconds instead.           \u001b[2m             \u001b[0m\n"
      ]
     },
     "metadata": {},
     "output_type": "display_data"
    },
    {
     "name": "stderr",
     "output_type": "stream",
     "text": [
      "                                                                 \r"
     ]
    },
    {
     "data": {
      "text/html": [
       "<pre style=\"white-space:pre;overflow-x:auto;line-height:normal;font-family:Menlo,'DejaVu Sans Mono',consolas,'Courier New',monospace\"><span style=\"color: #7fbfbf; text-decoration-color: #7fbfbf\">                    </span><span style=\"color: #800000; text-decoration-color: #800000\">WARNING </span> The original total run_time of <span style=\"color: #800080; text-decoration-color: #800080; font-weight: bold\">NeuralNetwork.play</span><span style=\"font-weight: bold\">()</span>, <span style=\"color: #008000; text-decoration-color: #008000\">0.05</span> seconds, is    <span style=\"color: #7f7f7f; text-decoration-color: #7f7f7f\">scene.py:1044</span>\n",
       "<span style=\"color: #7fbfbf; text-decoration-color: #7fbfbf\">                    </span>         too short for the current frame rate of <span style=\"color: #008000; text-decoration-color: #008000\">15</span> FPS. <span style=\"color: #808000; text-decoration-color: #808000; font-weight: bold\">Rendering</span> with the       <span style=\"color: #7f7f7f; text-decoration-color: #7f7f7f\">             </span>\n",
       "<span style=\"color: #7fbfbf; text-decoration-color: #7fbfbf\">                    </span>         shortest possible total run_time of <span style=\"color: #008000; text-decoration-color: #008000\">0.0666667</span> seconds instead.           <span style=\"color: #7f7f7f; text-decoration-color: #7f7f7f\">             </span>\n",
       "</pre>\n"
      ],
      "text/plain": [
       "\u001b[2;36m                   \u001b[0m\u001b[2;36m \u001b[0m\u001b[31mWARNING \u001b[0m The original total run_time of \u001b[1;35mNeuralNetwork.play\u001b[0m\u001b[1m(\u001b[0m\u001b[1m)\u001b[0m, \u001b[32m0.05\u001b[0m seconds, is    \u001b[2mscene.py\u001b[0m\u001b[2m:\u001b[0m\u001b[2m1044\u001b[0m\n",
       "\u001b[2;36m                    \u001b[0m         too short for the current frame rate of \u001b[32m15\u001b[0m FPS. \u001b[1;33mRendering\u001b[0m with the       \u001b[2m             \u001b[0m\n",
       "\u001b[2;36m                    \u001b[0m         shortest possible total run_time of \u001b[32m0.0666667\u001b[0m seconds instead.           \u001b[2m             \u001b[0m\n"
      ]
     },
     "metadata": {},
     "output_type": "display_data"
    },
    {
     "data": {
      "text/html": [
       "<pre style=\"white-space:pre;overflow-x:auto;line-height:normal;font-family:Menlo,'DejaVu Sans Mono',consolas,'Courier New',monospace\"><span style=\"color: #7fbfbf; text-decoration-color: #7fbfbf\">                    </span><span style=\"color: #800000; text-decoration-color: #800000\">WARNING </span> The original total run_time of <span style=\"color: #800080; text-decoration-color: #800080; font-weight: bold\">NeuralNetwork.play</span><span style=\"font-weight: bold\">()</span>, <span style=\"color: #008000; text-decoration-color: #008000\">0.05</span> seconds, is    <span style=\"color: #7f7f7f; text-decoration-color: #7f7f7f\">scene.py:1044</span>\n",
       "<span style=\"color: #7fbfbf; text-decoration-color: #7fbfbf\">                    </span>         too short for the current frame rate of <span style=\"color: #008000; text-decoration-color: #008000\">15</span> FPS. <span style=\"color: #808000; text-decoration-color: #808000; font-weight: bold\">Rendering</span> with the       <span style=\"color: #7f7f7f; text-decoration-color: #7f7f7f\">             </span>\n",
       "<span style=\"color: #7fbfbf; text-decoration-color: #7fbfbf\">                    </span>         shortest possible total run_time of <span style=\"color: #008000; text-decoration-color: #008000\">0.0666667</span> seconds instead.           <span style=\"color: #7f7f7f; text-decoration-color: #7f7f7f\">             </span>\n",
       "</pre>\n"
      ],
      "text/plain": [
       "\u001b[2;36m                   \u001b[0m\u001b[2;36m \u001b[0m\u001b[31mWARNING \u001b[0m The original total run_time of \u001b[1;35mNeuralNetwork.play\u001b[0m\u001b[1m(\u001b[0m\u001b[1m)\u001b[0m, \u001b[32m0.05\u001b[0m seconds, is    \u001b[2mscene.py\u001b[0m\u001b[2m:\u001b[0m\u001b[2m1044\u001b[0m\n",
       "\u001b[2;36m                    \u001b[0m         too short for the current frame rate of \u001b[32m15\u001b[0m FPS. \u001b[1;33mRendering\u001b[0m with the       \u001b[2m             \u001b[0m\n",
       "\u001b[2;36m                    \u001b[0m         shortest possible total run_time of \u001b[32m0.0666667\u001b[0m seconds instead.           \u001b[2m             \u001b[0m\n"
      ]
     },
     "metadata": {},
     "output_type": "display_data"
    },
    {
     "name": "stderr",
     "output_type": "stream",
     "text": [
      "                                                                 \r"
     ]
    },
    {
     "data": {
      "text/html": [
       "<pre style=\"white-space:pre;overflow-x:auto;line-height:normal;font-family:Menlo,'DejaVu Sans Mono',consolas,'Courier New',monospace\"><span style=\"color: #7fbfbf; text-decoration-color: #7fbfbf\">                    </span><span style=\"color: #800000; text-decoration-color: #800000\">WARNING </span> The original total run_time of <span style=\"color: #800080; text-decoration-color: #800080; font-weight: bold\">NeuralNetwork.play</span><span style=\"font-weight: bold\">()</span>, <span style=\"color: #008000; text-decoration-color: #008000\">0.05</span> seconds, is    <span style=\"color: #7f7f7f; text-decoration-color: #7f7f7f\">scene.py:1044</span>\n",
       "<span style=\"color: #7fbfbf; text-decoration-color: #7fbfbf\">                    </span>         too short for the current frame rate of <span style=\"color: #008000; text-decoration-color: #008000\">15</span> FPS. <span style=\"color: #808000; text-decoration-color: #808000; font-weight: bold\">Rendering</span> with the       <span style=\"color: #7f7f7f; text-decoration-color: #7f7f7f\">             </span>\n",
       "<span style=\"color: #7fbfbf; text-decoration-color: #7fbfbf\">                    </span>         shortest possible total run_time of <span style=\"color: #008000; text-decoration-color: #008000\">0.0666667</span> seconds instead.           <span style=\"color: #7f7f7f; text-decoration-color: #7f7f7f\">             </span>\n",
       "</pre>\n"
      ],
      "text/plain": [
       "\u001b[2;36m                   \u001b[0m\u001b[2;36m \u001b[0m\u001b[31mWARNING \u001b[0m The original total run_time of \u001b[1;35mNeuralNetwork.play\u001b[0m\u001b[1m(\u001b[0m\u001b[1m)\u001b[0m, \u001b[32m0.05\u001b[0m seconds, is    \u001b[2mscene.py\u001b[0m\u001b[2m:\u001b[0m\u001b[2m1044\u001b[0m\n",
       "\u001b[2;36m                    \u001b[0m         too short for the current frame rate of \u001b[32m15\u001b[0m FPS. \u001b[1;33mRendering\u001b[0m with the       \u001b[2m             \u001b[0m\n",
       "\u001b[2;36m                    \u001b[0m         shortest possible total run_time of \u001b[32m0.0666667\u001b[0m seconds instead.           \u001b[2m             \u001b[0m\n"
      ]
     },
     "metadata": {},
     "output_type": "display_data"
    },
    {
     "data": {
      "text/html": [
       "<pre style=\"white-space:pre;overflow-x:auto;line-height:normal;font-family:Menlo,'DejaVu Sans Mono',consolas,'Courier New',monospace\"><span style=\"color: #7fbfbf; text-decoration-color: #7fbfbf\">                    </span><span style=\"color: #800000; text-decoration-color: #800000\">WARNING </span> The original total run_time of <span style=\"color: #800080; text-decoration-color: #800080; font-weight: bold\">NeuralNetwork.play</span><span style=\"font-weight: bold\">()</span>, <span style=\"color: #008000; text-decoration-color: #008000\">0.05</span> seconds, is    <span style=\"color: #7f7f7f; text-decoration-color: #7f7f7f\">scene.py:1044</span>\n",
       "<span style=\"color: #7fbfbf; text-decoration-color: #7fbfbf\">                    </span>         too short for the current frame rate of <span style=\"color: #008000; text-decoration-color: #008000\">15</span> FPS. <span style=\"color: #808000; text-decoration-color: #808000; font-weight: bold\">Rendering</span> with the       <span style=\"color: #7f7f7f; text-decoration-color: #7f7f7f\">             </span>\n",
       "<span style=\"color: #7fbfbf; text-decoration-color: #7fbfbf\">                    </span>         shortest possible total run_time of <span style=\"color: #008000; text-decoration-color: #008000\">0.0666667</span> seconds instead.           <span style=\"color: #7f7f7f; text-decoration-color: #7f7f7f\">             </span>\n",
       "</pre>\n"
      ],
      "text/plain": [
       "\u001b[2;36m                   \u001b[0m\u001b[2;36m \u001b[0m\u001b[31mWARNING \u001b[0m The original total run_time of \u001b[1;35mNeuralNetwork.play\u001b[0m\u001b[1m(\u001b[0m\u001b[1m)\u001b[0m, \u001b[32m0.05\u001b[0m seconds, is    \u001b[2mscene.py\u001b[0m\u001b[2m:\u001b[0m\u001b[2m1044\u001b[0m\n",
       "\u001b[2;36m                    \u001b[0m         too short for the current frame rate of \u001b[32m15\u001b[0m FPS. \u001b[1;33mRendering\u001b[0m with the       \u001b[2m             \u001b[0m\n",
       "\u001b[2;36m                    \u001b[0m         shortest possible total run_time of \u001b[32m0.0666667\u001b[0m seconds instead.           \u001b[2m             \u001b[0m\n"
      ]
     },
     "metadata": {},
     "output_type": "display_data"
    },
    {
     "name": "stderr",
     "output_type": "stream",
     "text": [
      "                                                                 \r"
     ]
    },
    {
     "data": {
      "text/html": [
       "<pre style=\"white-space:pre;overflow-x:auto;line-height:normal;font-family:Menlo,'DejaVu Sans Mono',consolas,'Courier New',monospace\"><span style=\"color: #7fbfbf; text-decoration-color: #7fbfbf\">                    </span><span style=\"color: #800000; text-decoration-color: #800000\">WARNING </span> The original total run_time of <span style=\"color: #800080; text-decoration-color: #800080; font-weight: bold\">NeuralNetwork.play</span><span style=\"font-weight: bold\">()</span>, <span style=\"color: #008000; text-decoration-color: #008000\">0.05</span> seconds, is    <span style=\"color: #7f7f7f; text-decoration-color: #7f7f7f\">scene.py:1044</span>\n",
       "<span style=\"color: #7fbfbf; text-decoration-color: #7fbfbf\">                    </span>         too short for the current frame rate of <span style=\"color: #008000; text-decoration-color: #008000\">15</span> FPS. <span style=\"color: #808000; text-decoration-color: #808000; font-weight: bold\">Rendering</span> with the       <span style=\"color: #7f7f7f; text-decoration-color: #7f7f7f\">             </span>\n",
       "<span style=\"color: #7fbfbf; text-decoration-color: #7fbfbf\">                    </span>         shortest possible total run_time of <span style=\"color: #008000; text-decoration-color: #008000\">0.0666667</span> seconds instead.           <span style=\"color: #7f7f7f; text-decoration-color: #7f7f7f\">             </span>\n",
       "</pre>\n"
      ],
      "text/plain": [
       "\u001b[2;36m                   \u001b[0m\u001b[2;36m \u001b[0m\u001b[31mWARNING \u001b[0m The original total run_time of \u001b[1;35mNeuralNetwork.play\u001b[0m\u001b[1m(\u001b[0m\u001b[1m)\u001b[0m, \u001b[32m0.05\u001b[0m seconds, is    \u001b[2mscene.py\u001b[0m\u001b[2m:\u001b[0m\u001b[2m1044\u001b[0m\n",
       "\u001b[2;36m                    \u001b[0m         too short for the current frame rate of \u001b[32m15\u001b[0m FPS. \u001b[1;33mRendering\u001b[0m with the       \u001b[2m             \u001b[0m\n",
       "\u001b[2;36m                    \u001b[0m         shortest possible total run_time of \u001b[32m0.0666667\u001b[0m seconds instead.           \u001b[2m             \u001b[0m\n"
      ]
     },
     "metadata": {},
     "output_type": "display_data"
    },
    {
     "data": {
      "text/html": [
       "<pre style=\"white-space:pre;overflow-x:auto;line-height:normal;font-family:Menlo,'DejaVu Sans Mono',consolas,'Courier New',monospace\"><span style=\"color: #7fbfbf; text-decoration-color: #7fbfbf\">                    </span><span style=\"color: #800000; text-decoration-color: #800000\">WARNING </span> The original total run_time of <span style=\"color: #800080; text-decoration-color: #800080; font-weight: bold\">NeuralNetwork.play</span><span style=\"font-weight: bold\">()</span>, <span style=\"color: #008000; text-decoration-color: #008000\">0.05</span> seconds, is    <span style=\"color: #7f7f7f; text-decoration-color: #7f7f7f\">scene.py:1044</span>\n",
       "<span style=\"color: #7fbfbf; text-decoration-color: #7fbfbf\">                    </span>         too short for the current frame rate of <span style=\"color: #008000; text-decoration-color: #008000\">15</span> FPS. <span style=\"color: #808000; text-decoration-color: #808000; font-weight: bold\">Rendering</span> with the       <span style=\"color: #7f7f7f; text-decoration-color: #7f7f7f\">             </span>\n",
       "<span style=\"color: #7fbfbf; text-decoration-color: #7fbfbf\">                    </span>         shortest possible total run_time of <span style=\"color: #008000; text-decoration-color: #008000\">0.0666667</span> seconds instead.           <span style=\"color: #7f7f7f; text-decoration-color: #7f7f7f\">             </span>\n",
       "</pre>\n"
      ],
      "text/plain": [
       "\u001b[2;36m                   \u001b[0m\u001b[2;36m \u001b[0m\u001b[31mWARNING \u001b[0m The original total run_time of \u001b[1;35mNeuralNetwork.play\u001b[0m\u001b[1m(\u001b[0m\u001b[1m)\u001b[0m, \u001b[32m0.05\u001b[0m seconds, is    \u001b[2mscene.py\u001b[0m\u001b[2m:\u001b[0m\u001b[2m1044\u001b[0m\n",
       "\u001b[2;36m                    \u001b[0m         too short for the current frame rate of \u001b[32m15\u001b[0m FPS. \u001b[1;33mRendering\u001b[0m with the       \u001b[2m             \u001b[0m\n",
       "\u001b[2;36m                    \u001b[0m         shortest possible total run_time of \u001b[32m0.0666667\u001b[0m seconds instead.           \u001b[2m             \u001b[0m\n"
      ]
     },
     "metadata": {},
     "output_type": "display_data"
    },
    {
     "name": "stderr",
     "output_type": "stream",
     "text": [
      "                                                                 \r"
     ]
    },
    {
     "data": {
      "text/html": [
       "<pre style=\"white-space:pre;overflow-x:auto;line-height:normal;font-family:Menlo,'DejaVu Sans Mono',consolas,'Courier New',monospace\"><span style=\"color: #7fbfbf; text-decoration-color: #7fbfbf\">                    </span><span style=\"color: #800000; text-decoration-color: #800000\">WARNING </span> The original total run_time of <span style=\"color: #800080; text-decoration-color: #800080; font-weight: bold\">NeuralNetwork.play</span><span style=\"font-weight: bold\">()</span>, <span style=\"color: #008000; text-decoration-color: #008000\">0.05</span> seconds, is    <span style=\"color: #7f7f7f; text-decoration-color: #7f7f7f\">scene.py:1044</span>\n",
       "<span style=\"color: #7fbfbf; text-decoration-color: #7fbfbf\">                    </span>         too short for the current frame rate of <span style=\"color: #008000; text-decoration-color: #008000\">15</span> FPS. <span style=\"color: #808000; text-decoration-color: #808000; font-weight: bold\">Rendering</span> with the       <span style=\"color: #7f7f7f; text-decoration-color: #7f7f7f\">             </span>\n",
       "<span style=\"color: #7fbfbf; text-decoration-color: #7fbfbf\">                    </span>         shortest possible total run_time of <span style=\"color: #008000; text-decoration-color: #008000\">0.0666667</span> seconds instead.           <span style=\"color: #7f7f7f; text-decoration-color: #7f7f7f\">             </span>\n",
       "</pre>\n"
      ],
      "text/plain": [
       "\u001b[2;36m                   \u001b[0m\u001b[2;36m \u001b[0m\u001b[31mWARNING \u001b[0m The original total run_time of \u001b[1;35mNeuralNetwork.play\u001b[0m\u001b[1m(\u001b[0m\u001b[1m)\u001b[0m, \u001b[32m0.05\u001b[0m seconds, is    \u001b[2mscene.py\u001b[0m\u001b[2m:\u001b[0m\u001b[2m1044\u001b[0m\n",
       "\u001b[2;36m                    \u001b[0m         too short for the current frame rate of \u001b[32m15\u001b[0m FPS. \u001b[1;33mRendering\u001b[0m with the       \u001b[2m             \u001b[0m\n",
       "\u001b[2;36m                    \u001b[0m         shortest possible total run_time of \u001b[32m0.0666667\u001b[0m seconds instead.           \u001b[2m             \u001b[0m\n"
      ]
     },
     "metadata": {},
     "output_type": "display_data"
    },
    {
     "data": {
      "text/html": [
       "<pre style=\"white-space:pre;overflow-x:auto;line-height:normal;font-family:Menlo,'DejaVu Sans Mono',consolas,'Courier New',monospace\"><span style=\"color: #7fbfbf; text-decoration-color: #7fbfbf\">                    </span><span style=\"color: #800000; text-decoration-color: #800000\">WARNING </span> The original total run_time of <span style=\"color: #800080; text-decoration-color: #800080; font-weight: bold\">NeuralNetwork.play</span><span style=\"font-weight: bold\">()</span>, <span style=\"color: #008000; text-decoration-color: #008000\">0.05</span> seconds, is    <span style=\"color: #7f7f7f; text-decoration-color: #7f7f7f\">scene.py:1044</span>\n",
       "<span style=\"color: #7fbfbf; text-decoration-color: #7fbfbf\">                    </span>         too short for the current frame rate of <span style=\"color: #008000; text-decoration-color: #008000\">15</span> FPS. <span style=\"color: #808000; text-decoration-color: #808000; font-weight: bold\">Rendering</span> with the       <span style=\"color: #7f7f7f; text-decoration-color: #7f7f7f\">             </span>\n",
       "<span style=\"color: #7fbfbf; text-decoration-color: #7fbfbf\">                    </span>         shortest possible total run_time of <span style=\"color: #008000; text-decoration-color: #008000\">0.0666667</span> seconds instead.           <span style=\"color: #7f7f7f; text-decoration-color: #7f7f7f\">             </span>\n",
       "</pre>\n"
      ],
      "text/plain": [
       "\u001b[2;36m                   \u001b[0m\u001b[2;36m \u001b[0m\u001b[31mWARNING \u001b[0m The original total run_time of \u001b[1;35mNeuralNetwork.play\u001b[0m\u001b[1m(\u001b[0m\u001b[1m)\u001b[0m, \u001b[32m0.05\u001b[0m seconds, is    \u001b[2mscene.py\u001b[0m\u001b[2m:\u001b[0m\u001b[2m1044\u001b[0m\n",
       "\u001b[2;36m                    \u001b[0m         too short for the current frame rate of \u001b[32m15\u001b[0m FPS. \u001b[1;33mRendering\u001b[0m with the       \u001b[2m             \u001b[0m\n",
       "\u001b[2;36m                    \u001b[0m         shortest possible total run_time of \u001b[32m0.0666667\u001b[0m seconds instead.           \u001b[2m             \u001b[0m\n"
      ]
     },
     "metadata": {},
     "output_type": "display_data"
    },
    {
     "name": "stderr",
     "output_type": "stream",
     "text": [
      "                                                                 \r"
     ]
    },
    {
     "data": {
      "text/html": [
       "<pre style=\"white-space:pre;overflow-x:auto;line-height:normal;font-family:Menlo,'DejaVu Sans Mono',consolas,'Courier New',monospace\"><span style=\"color: #7fbfbf; text-decoration-color: #7fbfbf\">                    </span><span style=\"color: #800000; text-decoration-color: #800000\">WARNING </span> The original total run_time of <span style=\"color: #800080; text-decoration-color: #800080; font-weight: bold\">NeuralNetwork.play</span><span style=\"font-weight: bold\">()</span>, <span style=\"color: #008000; text-decoration-color: #008000\">0.05</span> seconds, is    <span style=\"color: #7f7f7f; text-decoration-color: #7f7f7f\">scene.py:1044</span>\n",
       "<span style=\"color: #7fbfbf; text-decoration-color: #7fbfbf\">                    </span>         too short for the current frame rate of <span style=\"color: #008000; text-decoration-color: #008000\">15</span> FPS. <span style=\"color: #808000; text-decoration-color: #808000; font-weight: bold\">Rendering</span> with the       <span style=\"color: #7f7f7f; text-decoration-color: #7f7f7f\">             </span>\n",
       "<span style=\"color: #7fbfbf; text-decoration-color: #7fbfbf\">                    </span>         shortest possible total run_time of <span style=\"color: #008000; text-decoration-color: #008000\">0.0666667</span> seconds instead.           <span style=\"color: #7f7f7f; text-decoration-color: #7f7f7f\">             </span>\n",
       "</pre>\n"
      ],
      "text/plain": [
       "\u001b[2;36m                   \u001b[0m\u001b[2;36m \u001b[0m\u001b[31mWARNING \u001b[0m The original total run_time of \u001b[1;35mNeuralNetwork.play\u001b[0m\u001b[1m(\u001b[0m\u001b[1m)\u001b[0m, \u001b[32m0.05\u001b[0m seconds, is    \u001b[2mscene.py\u001b[0m\u001b[2m:\u001b[0m\u001b[2m1044\u001b[0m\n",
       "\u001b[2;36m                    \u001b[0m         too short for the current frame rate of \u001b[32m15\u001b[0m FPS. \u001b[1;33mRendering\u001b[0m with the       \u001b[2m             \u001b[0m\n",
       "\u001b[2;36m                    \u001b[0m         shortest possible total run_time of \u001b[32m0.0666667\u001b[0m seconds instead.           \u001b[2m             \u001b[0m\n"
      ]
     },
     "metadata": {},
     "output_type": "display_data"
    },
    {
     "data": {
      "text/html": [
       "<pre style=\"white-space:pre;overflow-x:auto;line-height:normal;font-family:Menlo,'DejaVu Sans Mono',consolas,'Courier New',monospace\"><span style=\"color: #7fbfbf; text-decoration-color: #7fbfbf\">                    </span><span style=\"color: #800000; text-decoration-color: #800000\">WARNING </span> The original total run_time of <span style=\"color: #800080; text-decoration-color: #800080; font-weight: bold\">NeuralNetwork.play</span><span style=\"font-weight: bold\">()</span>, <span style=\"color: #008000; text-decoration-color: #008000\">0.05</span> seconds, is    <span style=\"color: #7f7f7f; text-decoration-color: #7f7f7f\">scene.py:1044</span>\n",
       "<span style=\"color: #7fbfbf; text-decoration-color: #7fbfbf\">                    </span>         too short for the current frame rate of <span style=\"color: #008000; text-decoration-color: #008000\">15</span> FPS. <span style=\"color: #808000; text-decoration-color: #808000; font-weight: bold\">Rendering</span> with the       <span style=\"color: #7f7f7f; text-decoration-color: #7f7f7f\">             </span>\n",
       "<span style=\"color: #7fbfbf; text-decoration-color: #7fbfbf\">                    </span>         shortest possible total run_time of <span style=\"color: #008000; text-decoration-color: #008000\">0.0666667</span> seconds instead.           <span style=\"color: #7f7f7f; text-decoration-color: #7f7f7f\">             </span>\n",
       "</pre>\n"
      ],
      "text/plain": [
       "\u001b[2;36m                   \u001b[0m\u001b[2;36m \u001b[0m\u001b[31mWARNING \u001b[0m The original total run_time of \u001b[1;35mNeuralNetwork.play\u001b[0m\u001b[1m(\u001b[0m\u001b[1m)\u001b[0m, \u001b[32m0.05\u001b[0m seconds, is    \u001b[2mscene.py\u001b[0m\u001b[2m:\u001b[0m\u001b[2m1044\u001b[0m\n",
       "\u001b[2;36m                    \u001b[0m         too short for the current frame rate of \u001b[32m15\u001b[0m FPS. \u001b[1;33mRendering\u001b[0m with the       \u001b[2m             \u001b[0m\n",
       "\u001b[2;36m                    \u001b[0m         shortest possible total run_time of \u001b[32m0.0666667\u001b[0m seconds instead.           \u001b[2m             \u001b[0m\n"
      ]
     },
     "metadata": {},
     "output_type": "display_data"
    },
    {
     "name": "stderr",
     "output_type": "stream",
     "text": [
      "                                                                 \r"
     ]
    },
    {
     "data": {
      "text/html": [
       "<pre style=\"white-space:pre;overflow-x:auto;line-height:normal;font-family:Menlo,'DejaVu Sans Mono',consolas,'Courier New',monospace\"><span style=\"color: #7fbfbf; text-decoration-color: #7fbfbf\">                    </span><span style=\"color: #800000; text-decoration-color: #800000\">WARNING </span> The original total run_time of <span style=\"color: #800080; text-decoration-color: #800080; font-weight: bold\">NeuralNetwork.play</span><span style=\"font-weight: bold\">()</span>, <span style=\"color: #008000; text-decoration-color: #008000\">0.05</span> seconds, is    <span style=\"color: #7f7f7f; text-decoration-color: #7f7f7f\">scene.py:1044</span>\n",
       "<span style=\"color: #7fbfbf; text-decoration-color: #7fbfbf\">                    </span>         too short for the current frame rate of <span style=\"color: #008000; text-decoration-color: #008000\">15</span> FPS. <span style=\"color: #808000; text-decoration-color: #808000; font-weight: bold\">Rendering</span> with the       <span style=\"color: #7f7f7f; text-decoration-color: #7f7f7f\">             </span>\n",
       "<span style=\"color: #7fbfbf; text-decoration-color: #7fbfbf\">                    </span>         shortest possible total run_time of <span style=\"color: #008000; text-decoration-color: #008000\">0.0666667</span> seconds instead.           <span style=\"color: #7f7f7f; text-decoration-color: #7f7f7f\">             </span>\n",
       "</pre>\n"
      ],
      "text/plain": [
       "\u001b[2;36m                   \u001b[0m\u001b[2;36m \u001b[0m\u001b[31mWARNING \u001b[0m The original total run_time of \u001b[1;35mNeuralNetwork.play\u001b[0m\u001b[1m(\u001b[0m\u001b[1m)\u001b[0m, \u001b[32m0.05\u001b[0m seconds, is    \u001b[2mscene.py\u001b[0m\u001b[2m:\u001b[0m\u001b[2m1044\u001b[0m\n",
       "\u001b[2;36m                    \u001b[0m         too short for the current frame rate of \u001b[32m15\u001b[0m FPS. \u001b[1;33mRendering\u001b[0m with the       \u001b[2m             \u001b[0m\n",
       "\u001b[2;36m                    \u001b[0m         shortest possible total run_time of \u001b[32m0.0666667\u001b[0m seconds instead.           \u001b[2m             \u001b[0m\n"
      ]
     },
     "metadata": {},
     "output_type": "display_data"
    },
    {
     "data": {
      "text/html": [
       "<pre style=\"white-space:pre;overflow-x:auto;line-height:normal;font-family:Menlo,'DejaVu Sans Mono',consolas,'Courier New',monospace\"><span style=\"color: #7fbfbf; text-decoration-color: #7fbfbf\">                    </span><span style=\"color: #800000; text-decoration-color: #800000\">WARNING </span> The original total run_time of <span style=\"color: #800080; text-decoration-color: #800080; font-weight: bold\">NeuralNetwork.play</span><span style=\"font-weight: bold\">()</span>, <span style=\"color: #008000; text-decoration-color: #008000\">0.05</span> seconds, is    <span style=\"color: #7f7f7f; text-decoration-color: #7f7f7f\">scene.py:1044</span>\n",
       "<span style=\"color: #7fbfbf; text-decoration-color: #7fbfbf\">                    </span>         too short for the current frame rate of <span style=\"color: #008000; text-decoration-color: #008000\">15</span> FPS. <span style=\"color: #808000; text-decoration-color: #808000; font-weight: bold\">Rendering</span> with the       <span style=\"color: #7f7f7f; text-decoration-color: #7f7f7f\">             </span>\n",
       "<span style=\"color: #7fbfbf; text-decoration-color: #7fbfbf\">                    </span>         shortest possible total run_time of <span style=\"color: #008000; text-decoration-color: #008000\">0.0666667</span> seconds instead.           <span style=\"color: #7f7f7f; text-decoration-color: #7f7f7f\">             </span>\n",
       "</pre>\n"
      ],
      "text/plain": [
       "\u001b[2;36m                   \u001b[0m\u001b[2;36m \u001b[0m\u001b[31mWARNING \u001b[0m The original total run_time of \u001b[1;35mNeuralNetwork.play\u001b[0m\u001b[1m(\u001b[0m\u001b[1m)\u001b[0m, \u001b[32m0.05\u001b[0m seconds, is    \u001b[2mscene.py\u001b[0m\u001b[2m:\u001b[0m\u001b[2m1044\u001b[0m\n",
       "\u001b[2;36m                    \u001b[0m         too short for the current frame rate of \u001b[32m15\u001b[0m FPS. \u001b[1;33mRendering\u001b[0m with the       \u001b[2m             \u001b[0m\n",
       "\u001b[2;36m                    \u001b[0m         shortest possible total run_time of \u001b[32m0.0666667\u001b[0m seconds instead.           \u001b[2m             \u001b[0m\n"
      ]
     },
     "metadata": {},
     "output_type": "display_data"
    },
    {
     "name": "stderr",
     "output_type": "stream",
     "text": [
      "                                                                 \r"
     ]
    },
    {
     "data": {
      "text/html": [
       "<pre style=\"white-space:pre;overflow-x:auto;line-height:normal;font-family:Menlo,'DejaVu Sans Mono',consolas,'Courier New',monospace\"><span style=\"color: #7fbfbf; text-decoration-color: #7fbfbf\">                    </span><span style=\"color: #800000; text-decoration-color: #800000\">WARNING </span> The original total run_time of <span style=\"color: #800080; text-decoration-color: #800080; font-weight: bold\">NeuralNetwork.play</span><span style=\"font-weight: bold\">()</span>, <span style=\"color: #008000; text-decoration-color: #008000\">0.05</span> seconds, is    <span style=\"color: #7f7f7f; text-decoration-color: #7f7f7f\">scene.py:1044</span>\n",
       "<span style=\"color: #7fbfbf; text-decoration-color: #7fbfbf\">                    </span>         too short for the current frame rate of <span style=\"color: #008000; text-decoration-color: #008000\">15</span> FPS. <span style=\"color: #808000; text-decoration-color: #808000; font-weight: bold\">Rendering</span> with the       <span style=\"color: #7f7f7f; text-decoration-color: #7f7f7f\">             </span>\n",
       "<span style=\"color: #7fbfbf; text-decoration-color: #7fbfbf\">                    </span>         shortest possible total run_time of <span style=\"color: #008000; text-decoration-color: #008000\">0.0666667</span> seconds instead.           <span style=\"color: #7f7f7f; text-decoration-color: #7f7f7f\">             </span>\n",
       "</pre>\n"
      ],
      "text/plain": [
       "\u001b[2;36m                   \u001b[0m\u001b[2;36m \u001b[0m\u001b[31mWARNING \u001b[0m The original total run_time of \u001b[1;35mNeuralNetwork.play\u001b[0m\u001b[1m(\u001b[0m\u001b[1m)\u001b[0m, \u001b[32m0.05\u001b[0m seconds, is    \u001b[2mscene.py\u001b[0m\u001b[2m:\u001b[0m\u001b[2m1044\u001b[0m\n",
       "\u001b[2;36m                    \u001b[0m         too short for the current frame rate of \u001b[32m15\u001b[0m FPS. \u001b[1;33mRendering\u001b[0m with the       \u001b[2m             \u001b[0m\n",
       "\u001b[2;36m                    \u001b[0m         shortest possible total run_time of \u001b[32m0.0666667\u001b[0m seconds instead.           \u001b[2m             \u001b[0m\n"
      ]
     },
     "metadata": {},
     "output_type": "display_data"
    },
    {
     "data": {
      "text/html": [
       "<pre style=\"white-space:pre;overflow-x:auto;line-height:normal;font-family:Menlo,'DejaVu Sans Mono',consolas,'Courier New',monospace\"><span style=\"color: #7fbfbf; text-decoration-color: #7fbfbf\">                    </span><span style=\"color: #800000; text-decoration-color: #800000\">WARNING </span> The original total run_time of <span style=\"color: #800080; text-decoration-color: #800080; font-weight: bold\">NeuralNetwork.play</span><span style=\"font-weight: bold\">()</span>, <span style=\"color: #008000; text-decoration-color: #008000\">0.05</span> seconds, is    <span style=\"color: #7f7f7f; text-decoration-color: #7f7f7f\">scene.py:1044</span>\n",
       "<span style=\"color: #7fbfbf; text-decoration-color: #7fbfbf\">                    </span>         too short for the current frame rate of <span style=\"color: #008000; text-decoration-color: #008000\">15</span> FPS. <span style=\"color: #808000; text-decoration-color: #808000; font-weight: bold\">Rendering</span> with the       <span style=\"color: #7f7f7f; text-decoration-color: #7f7f7f\">             </span>\n",
       "<span style=\"color: #7fbfbf; text-decoration-color: #7fbfbf\">                    </span>         shortest possible total run_time of <span style=\"color: #008000; text-decoration-color: #008000\">0.0666667</span> seconds instead.           <span style=\"color: #7f7f7f; text-decoration-color: #7f7f7f\">             </span>\n",
       "</pre>\n"
      ],
      "text/plain": [
       "\u001b[2;36m                   \u001b[0m\u001b[2;36m \u001b[0m\u001b[31mWARNING \u001b[0m The original total run_time of \u001b[1;35mNeuralNetwork.play\u001b[0m\u001b[1m(\u001b[0m\u001b[1m)\u001b[0m, \u001b[32m0.05\u001b[0m seconds, is    \u001b[2mscene.py\u001b[0m\u001b[2m:\u001b[0m\u001b[2m1044\u001b[0m\n",
       "\u001b[2;36m                    \u001b[0m         too short for the current frame rate of \u001b[32m15\u001b[0m FPS. \u001b[1;33mRendering\u001b[0m with the       \u001b[2m             \u001b[0m\n",
       "\u001b[2;36m                    \u001b[0m         shortest possible total run_time of \u001b[32m0.0666667\u001b[0m seconds instead.           \u001b[2m             \u001b[0m\n"
      ]
     },
     "metadata": {},
     "output_type": "display_data"
    },
    {
     "name": "stderr",
     "output_type": "stream",
     "text": [
      "                                                                 \r"
     ]
    },
    {
     "data": {
      "text/html": [
       "<pre style=\"white-space:pre;overflow-x:auto;line-height:normal;font-family:Menlo,'DejaVu Sans Mono',consolas,'Courier New',monospace\"><span style=\"color: #7fbfbf; text-decoration-color: #7fbfbf\">                    </span><span style=\"color: #800000; text-decoration-color: #800000\">WARNING </span> The original total run_time of <span style=\"color: #800080; text-decoration-color: #800080; font-weight: bold\">NeuralNetwork.play</span><span style=\"font-weight: bold\">()</span>, <span style=\"color: #008000; text-decoration-color: #008000\">0.05</span> seconds, is    <span style=\"color: #7f7f7f; text-decoration-color: #7f7f7f\">scene.py:1044</span>\n",
       "<span style=\"color: #7fbfbf; text-decoration-color: #7fbfbf\">                    </span>         too short for the current frame rate of <span style=\"color: #008000; text-decoration-color: #008000\">15</span> FPS. <span style=\"color: #808000; text-decoration-color: #808000; font-weight: bold\">Rendering</span> with the       <span style=\"color: #7f7f7f; text-decoration-color: #7f7f7f\">             </span>\n",
       "<span style=\"color: #7fbfbf; text-decoration-color: #7fbfbf\">                    </span>         shortest possible total run_time of <span style=\"color: #008000; text-decoration-color: #008000\">0.0666667</span> seconds instead.           <span style=\"color: #7f7f7f; text-decoration-color: #7f7f7f\">             </span>\n",
       "</pre>\n"
      ],
      "text/plain": [
       "\u001b[2;36m                   \u001b[0m\u001b[2;36m \u001b[0m\u001b[31mWARNING \u001b[0m The original total run_time of \u001b[1;35mNeuralNetwork.play\u001b[0m\u001b[1m(\u001b[0m\u001b[1m)\u001b[0m, \u001b[32m0.05\u001b[0m seconds, is    \u001b[2mscene.py\u001b[0m\u001b[2m:\u001b[0m\u001b[2m1044\u001b[0m\n",
       "\u001b[2;36m                    \u001b[0m         too short for the current frame rate of \u001b[32m15\u001b[0m FPS. \u001b[1;33mRendering\u001b[0m with the       \u001b[2m             \u001b[0m\n",
       "\u001b[2;36m                    \u001b[0m         shortest possible total run_time of \u001b[32m0.0666667\u001b[0m seconds instead.           \u001b[2m             \u001b[0m\n"
      ]
     },
     "metadata": {},
     "output_type": "display_data"
    },
    {
     "data": {
      "text/html": [
       "<pre style=\"white-space:pre;overflow-x:auto;line-height:normal;font-family:Menlo,'DejaVu Sans Mono',consolas,'Courier New',monospace\"><span style=\"color: #7fbfbf; text-decoration-color: #7fbfbf\">                    </span><span style=\"color: #800000; text-decoration-color: #800000\">WARNING </span> The original total run_time of <span style=\"color: #800080; text-decoration-color: #800080; font-weight: bold\">NeuralNetwork.play</span><span style=\"font-weight: bold\">()</span>, <span style=\"color: #008000; text-decoration-color: #008000\">0.05</span> seconds, is    <span style=\"color: #7f7f7f; text-decoration-color: #7f7f7f\">scene.py:1044</span>\n",
       "<span style=\"color: #7fbfbf; text-decoration-color: #7fbfbf\">                    </span>         too short for the current frame rate of <span style=\"color: #008000; text-decoration-color: #008000\">15</span> FPS. <span style=\"color: #808000; text-decoration-color: #808000; font-weight: bold\">Rendering</span> with the       <span style=\"color: #7f7f7f; text-decoration-color: #7f7f7f\">             </span>\n",
       "<span style=\"color: #7fbfbf; text-decoration-color: #7fbfbf\">                    </span>         shortest possible total run_time of <span style=\"color: #008000; text-decoration-color: #008000\">0.0666667</span> seconds instead.           <span style=\"color: #7f7f7f; text-decoration-color: #7f7f7f\">             </span>\n",
       "</pre>\n"
      ],
      "text/plain": [
       "\u001b[2;36m                   \u001b[0m\u001b[2;36m \u001b[0m\u001b[31mWARNING \u001b[0m The original total run_time of \u001b[1;35mNeuralNetwork.play\u001b[0m\u001b[1m(\u001b[0m\u001b[1m)\u001b[0m, \u001b[32m0.05\u001b[0m seconds, is    \u001b[2mscene.py\u001b[0m\u001b[2m:\u001b[0m\u001b[2m1044\u001b[0m\n",
       "\u001b[2;36m                    \u001b[0m         too short for the current frame rate of \u001b[32m15\u001b[0m FPS. \u001b[1;33mRendering\u001b[0m with the       \u001b[2m             \u001b[0m\n",
       "\u001b[2;36m                    \u001b[0m         shortest possible total run_time of \u001b[32m0.0666667\u001b[0m seconds instead.           \u001b[2m             \u001b[0m\n"
      ]
     },
     "metadata": {},
     "output_type": "display_data"
    },
    {
     "name": "stderr",
     "output_type": "stream",
     "text": [
      "                                                                 \r"
     ]
    },
    {
     "data": {
      "text/html": [
       "<pre style=\"white-space:pre;overflow-x:auto;line-height:normal;font-family:Menlo,'DejaVu Sans Mono',consolas,'Courier New',monospace\"><span style=\"color: #7fbfbf; text-decoration-color: #7fbfbf\">                    </span><span style=\"color: #800000; text-decoration-color: #800000\">WARNING </span> The original total run_time of <span style=\"color: #800080; text-decoration-color: #800080; font-weight: bold\">NeuralNetwork.play</span><span style=\"font-weight: bold\">()</span>, <span style=\"color: #008000; text-decoration-color: #008000\">0.05</span> seconds, is    <span style=\"color: #7f7f7f; text-decoration-color: #7f7f7f\">scene.py:1044</span>\n",
       "<span style=\"color: #7fbfbf; text-decoration-color: #7fbfbf\">                    </span>         too short for the current frame rate of <span style=\"color: #008000; text-decoration-color: #008000\">15</span> FPS. <span style=\"color: #808000; text-decoration-color: #808000; font-weight: bold\">Rendering</span> with the       <span style=\"color: #7f7f7f; text-decoration-color: #7f7f7f\">             </span>\n",
       "<span style=\"color: #7fbfbf; text-decoration-color: #7fbfbf\">                    </span>         shortest possible total run_time of <span style=\"color: #008000; text-decoration-color: #008000\">0.0666667</span> seconds instead.           <span style=\"color: #7f7f7f; text-decoration-color: #7f7f7f\">             </span>\n",
       "</pre>\n"
      ],
      "text/plain": [
       "\u001b[2;36m                   \u001b[0m\u001b[2;36m \u001b[0m\u001b[31mWARNING \u001b[0m The original total run_time of \u001b[1;35mNeuralNetwork.play\u001b[0m\u001b[1m(\u001b[0m\u001b[1m)\u001b[0m, \u001b[32m0.05\u001b[0m seconds, is    \u001b[2mscene.py\u001b[0m\u001b[2m:\u001b[0m\u001b[2m1044\u001b[0m\n",
       "\u001b[2;36m                    \u001b[0m         too short for the current frame rate of \u001b[32m15\u001b[0m FPS. \u001b[1;33mRendering\u001b[0m with the       \u001b[2m             \u001b[0m\n",
       "\u001b[2;36m                    \u001b[0m         shortest possible total run_time of \u001b[32m0.0666667\u001b[0m seconds instead.           \u001b[2m             \u001b[0m\n"
      ]
     },
     "metadata": {},
     "output_type": "display_data"
    },
    {
     "data": {
      "text/html": [
       "<pre style=\"white-space:pre;overflow-x:auto;line-height:normal;font-family:Menlo,'DejaVu Sans Mono',consolas,'Courier New',monospace\"><span style=\"color: #7fbfbf; text-decoration-color: #7fbfbf\">                    </span><span style=\"color: #800000; text-decoration-color: #800000\">WARNING </span> The original total run_time of <span style=\"color: #800080; text-decoration-color: #800080; font-weight: bold\">NeuralNetwork.play</span><span style=\"font-weight: bold\">()</span>, <span style=\"color: #008000; text-decoration-color: #008000\">0.05</span> seconds, is    <span style=\"color: #7f7f7f; text-decoration-color: #7f7f7f\">scene.py:1044</span>\n",
       "<span style=\"color: #7fbfbf; text-decoration-color: #7fbfbf\">                    </span>         too short for the current frame rate of <span style=\"color: #008000; text-decoration-color: #008000\">15</span> FPS. <span style=\"color: #808000; text-decoration-color: #808000; font-weight: bold\">Rendering</span> with the       <span style=\"color: #7f7f7f; text-decoration-color: #7f7f7f\">             </span>\n",
       "<span style=\"color: #7fbfbf; text-decoration-color: #7fbfbf\">                    </span>         shortest possible total run_time of <span style=\"color: #008000; text-decoration-color: #008000\">0.0666667</span> seconds instead.           <span style=\"color: #7f7f7f; text-decoration-color: #7f7f7f\">             </span>\n",
       "</pre>\n"
      ],
      "text/plain": [
       "\u001b[2;36m                   \u001b[0m\u001b[2;36m \u001b[0m\u001b[31mWARNING \u001b[0m The original total run_time of \u001b[1;35mNeuralNetwork.play\u001b[0m\u001b[1m(\u001b[0m\u001b[1m)\u001b[0m, \u001b[32m0.05\u001b[0m seconds, is    \u001b[2mscene.py\u001b[0m\u001b[2m:\u001b[0m\u001b[2m1044\u001b[0m\n",
       "\u001b[2;36m                    \u001b[0m         too short for the current frame rate of \u001b[32m15\u001b[0m FPS. \u001b[1;33mRendering\u001b[0m with the       \u001b[2m             \u001b[0m\n",
       "\u001b[2;36m                    \u001b[0m         shortest possible total run_time of \u001b[32m0.0666667\u001b[0m seconds instead.           \u001b[2m             \u001b[0m\n"
      ]
     },
     "metadata": {},
     "output_type": "display_data"
    },
    {
     "name": "stderr",
     "output_type": "stream",
     "text": [
      "                                                                 \r"
     ]
    },
    {
     "data": {
      "text/html": [
       "<pre style=\"white-space:pre;overflow-x:auto;line-height:normal;font-family:Menlo,'DejaVu Sans Mono',consolas,'Courier New',monospace\"><span style=\"color: #7fbfbf; text-decoration-color: #7fbfbf\">                    </span><span style=\"color: #800000; text-decoration-color: #800000\">WARNING </span> The original total run_time of <span style=\"color: #800080; text-decoration-color: #800080; font-weight: bold\">NeuralNetwork.play</span><span style=\"font-weight: bold\">()</span>, <span style=\"color: #008000; text-decoration-color: #008000\">0.05</span> seconds, is    <span style=\"color: #7f7f7f; text-decoration-color: #7f7f7f\">scene.py:1044</span>\n",
       "<span style=\"color: #7fbfbf; text-decoration-color: #7fbfbf\">                    </span>         too short for the current frame rate of <span style=\"color: #008000; text-decoration-color: #008000\">15</span> FPS. <span style=\"color: #808000; text-decoration-color: #808000; font-weight: bold\">Rendering</span> with the       <span style=\"color: #7f7f7f; text-decoration-color: #7f7f7f\">             </span>\n",
       "<span style=\"color: #7fbfbf; text-decoration-color: #7fbfbf\">                    </span>         shortest possible total run_time of <span style=\"color: #008000; text-decoration-color: #008000\">0.0666667</span> seconds instead.           <span style=\"color: #7f7f7f; text-decoration-color: #7f7f7f\">             </span>\n",
       "</pre>\n"
      ],
      "text/plain": [
       "\u001b[2;36m                   \u001b[0m\u001b[2;36m \u001b[0m\u001b[31mWARNING \u001b[0m The original total run_time of \u001b[1;35mNeuralNetwork.play\u001b[0m\u001b[1m(\u001b[0m\u001b[1m)\u001b[0m, \u001b[32m0.05\u001b[0m seconds, is    \u001b[2mscene.py\u001b[0m\u001b[2m:\u001b[0m\u001b[2m1044\u001b[0m\n",
       "\u001b[2;36m                    \u001b[0m         too short for the current frame rate of \u001b[32m15\u001b[0m FPS. \u001b[1;33mRendering\u001b[0m with the       \u001b[2m             \u001b[0m\n",
       "\u001b[2;36m                    \u001b[0m         shortest possible total run_time of \u001b[32m0.0666667\u001b[0m seconds instead.           \u001b[2m             \u001b[0m\n"
      ]
     },
     "metadata": {},
     "output_type": "display_data"
    },
    {
     "data": {
      "text/html": [
       "<pre style=\"white-space:pre;overflow-x:auto;line-height:normal;font-family:Menlo,'DejaVu Sans Mono',consolas,'Courier New',monospace\"><span style=\"color: #7fbfbf; text-decoration-color: #7fbfbf\">                    </span><span style=\"color: #800000; text-decoration-color: #800000\">WARNING </span> The original total run_time of <span style=\"color: #800080; text-decoration-color: #800080; font-weight: bold\">NeuralNetwork.play</span><span style=\"font-weight: bold\">()</span>, <span style=\"color: #008000; text-decoration-color: #008000\">0.05</span> seconds, is    <span style=\"color: #7f7f7f; text-decoration-color: #7f7f7f\">scene.py:1044</span>\n",
       "<span style=\"color: #7fbfbf; text-decoration-color: #7fbfbf\">                    </span>         too short for the current frame rate of <span style=\"color: #008000; text-decoration-color: #008000\">15</span> FPS. <span style=\"color: #808000; text-decoration-color: #808000; font-weight: bold\">Rendering</span> with the       <span style=\"color: #7f7f7f; text-decoration-color: #7f7f7f\">             </span>\n",
       "<span style=\"color: #7fbfbf; text-decoration-color: #7fbfbf\">                    </span>         shortest possible total run_time of <span style=\"color: #008000; text-decoration-color: #008000\">0.0666667</span> seconds instead.           <span style=\"color: #7f7f7f; text-decoration-color: #7f7f7f\">             </span>\n",
       "</pre>\n"
      ],
      "text/plain": [
       "\u001b[2;36m                   \u001b[0m\u001b[2;36m \u001b[0m\u001b[31mWARNING \u001b[0m The original total run_time of \u001b[1;35mNeuralNetwork.play\u001b[0m\u001b[1m(\u001b[0m\u001b[1m)\u001b[0m, \u001b[32m0.05\u001b[0m seconds, is    \u001b[2mscene.py\u001b[0m\u001b[2m:\u001b[0m\u001b[2m1044\u001b[0m\n",
       "\u001b[2;36m                    \u001b[0m         too short for the current frame rate of \u001b[32m15\u001b[0m FPS. \u001b[1;33mRendering\u001b[0m with the       \u001b[2m             \u001b[0m\n",
       "\u001b[2;36m                    \u001b[0m         shortest possible total run_time of \u001b[32m0.0666667\u001b[0m seconds instead.           \u001b[2m             \u001b[0m\n"
      ]
     },
     "metadata": {},
     "output_type": "display_data"
    },
    {
     "name": "stderr",
     "output_type": "stream",
     "text": [
      "                                                                 \r"
     ]
    },
    {
     "data": {
      "text/html": [
       "<pre style=\"white-space:pre;overflow-x:auto;line-height:normal;font-family:Menlo,'DejaVu Sans Mono',consolas,'Courier New',monospace\"><span style=\"color: #7fbfbf; text-decoration-color: #7fbfbf\">                    </span><span style=\"color: #800000; text-decoration-color: #800000\">WARNING </span> The original total run_time of <span style=\"color: #800080; text-decoration-color: #800080; font-weight: bold\">NeuralNetwork.play</span><span style=\"font-weight: bold\">()</span>, <span style=\"color: #008000; text-decoration-color: #008000\">0.05</span> seconds, is    <span style=\"color: #7f7f7f; text-decoration-color: #7f7f7f\">scene.py:1044</span>\n",
       "<span style=\"color: #7fbfbf; text-decoration-color: #7fbfbf\">                    </span>         too short for the current frame rate of <span style=\"color: #008000; text-decoration-color: #008000\">15</span> FPS. <span style=\"color: #808000; text-decoration-color: #808000; font-weight: bold\">Rendering</span> with the       <span style=\"color: #7f7f7f; text-decoration-color: #7f7f7f\">             </span>\n",
       "<span style=\"color: #7fbfbf; text-decoration-color: #7fbfbf\">                    </span>         shortest possible total run_time of <span style=\"color: #008000; text-decoration-color: #008000\">0.0666667</span> seconds instead.           <span style=\"color: #7f7f7f; text-decoration-color: #7f7f7f\">             </span>\n",
       "</pre>\n"
      ],
      "text/plain": [
       "\u001b[2;36m                   \u001b[0m\u001b[2;36m \u001b[0m\u001b[31mWARNING \u001b[0m The original total run_time of \u001b[1;35mNeuralNetwork.play\u001b[0m\u001b[1m(\u001b[0m\u001b[1m)\u001b[0m, \u001b[32m0.05\u001b[0m seconds, is    \u001b[2mscene.py\u001b[0m\u001b[2m:\u001b[0m\u001b[2m1044\u001b[0m\n",
       "\u001b[2;36m                    \u001b[0m         too short for the current frame rate of \u001b[32m15\u001b[0m FPS. \u001b[1;33mRendering\u001b[0m with the       \u001b[2m             \u001b[0m\n",
       "\u001b[2;36m                    \u001b[0m         shortest possible total run_time of \u001b[32m0.0666667\u001b[0m seconds instead.           \u001b[2m             \u001b[0m\n"
      ]
     },
     "metadata": {},
     "output_type": "display_data"
    },
    {
     "data": {
      "text/html": [
       "<pre style=\"white-space:pre;overflow-x:auto;line-height:normal;font-family:Menlo,'DejaVu Sans Mono',consolas,'Courier New',monospace\"><span style=\"color: #7fbfbf; text-decoration-color: #7fbfbf\">                    </span><span style=\"color: #800000; text-decoration-color: #800000\">WARNING </span> The original total run_time of <span style=\"color: #800080; text-decoration-color: #800080; font-weight: bold\">NeuralNetwork.play</span><span style=\"font-weight: bold\">()</span>, <span style=\"color: #008000; text-decoration-color: #008000\">0.05</span> seconds, is    <span style=\"color: #7f7f7f; text-decoration-color: #7f7f7f\">scene.py:1044</span>\n",
       "<span style=\"color: #7fbfbf; text-decoration-color: #7fbfbf\">                    </span>         too short for the current frame rate of <span style=\"color: #008000; text-decoration-color: #008000\">15</span> FPS. <span style=\"color: #808000; text-decoration-color: #808000; font-weight: bold\">Rendering</span> with the       <span style=\"color: #7f7f7f; text-decoration-color: #7f7f7f\">             </span>\n",
       "<span style=\"color: #7fbfbf; text-decoration-color: #7fbfbf\">                    </span>         shortest possible total run_time of <span style=\"color: #008000; text-decoration-color: #008000\">0.0666667</span> seconds instead.           <span style=\"color: #7f7f7f; text-decoration-color: #7f7f7f\">             </span>\n",
       "</pre>\n"
      ],
      "text/plain": [
       "\u001b[2;36m                   \u001b[0m\u001b[2;36m \u001b[0m\u001b[31mWARNING \u001b[0m The original total run_time of \u001b[1;35mNeuralNetwork.play\u001b[0m\u001b[1m(\u001b[0m\u001b[1m)\u001b[0m, \u001b[32m0.05\u001b[0m seconds, is    \u001b[2mscene.py\u001b[0m\u001b[2m:\u001b[0m\u001b[2m1044\u001b[0m\n",
       "\u001b[2;36m                    \u001b[0m         too short for the current frame rate of \u001b[32m15\u001b[0m FPS. \u001b[1;33mRendering\u001b[0m with the       \u001b[2m             \u001b[0m\n",
       "\u001b[2;36m                    \u001b[0m         shortest possible total run_time of \u001b[32m0.0666667\u001b[0m seconds instead.           \u001b[2m             \u001b[0m\n"
      ]
     },
     "metadata": {},
     "output_type": "display_data"
    },
    {
     "name": "stderr",
     "output_type": "stream",
     "text": [
      "                                                                 \r"
     ]
    },
    {
     "data": {
      "text/html": [
       "<video src=\"media\\jupyter\\NeuralNetwork@2025-08-04@21-00-46.mp4\" controls autoplay loop style=\"max-width: 60%;\"  >\n",
       "      Your browser does not support the <code>video</code> element.\n",
       "    </video>"
      ],
      "text/plain": [
       "<IPython.core.display.Video object>"
      ]
     },
     "metadata": {},
     "output_type": "display_data"
    }
   ],
   "source": [
    "%%manim -ql -v WARNING NeuralNetwork\n",
    "\n",
    "class NeuralNetwork(Scene):\n",
    "    def construct(self):\n",
    "        # Layer sizes\n",
    "        layers = [3, 4, 2]  # 3 input, 4 hidden, 2 output\n",
    "\n",
    "        # Positions of layers\n",
    "        layer_dist = 3\n",
    "        neuron_radius = 0.2\n",
    "        layer_positions = [\n",
    "            LEFT * layer_dist,\n",
    "            ORIGIN,\n",
    "            RIGHT * layer_dist\n",
    "        ]\n",
    "\n",
    "        neurons = []  # Store neurons for connecting\n",
    "\n",
    "        # Create neurons\n",
    "        for i, layer_size in enumerate(layers):\n",
    "            layer_neurons = []\n",
    "            for j in range(layer_size):\n",
    "                neuron = Circle(radius=neuron_radius, color=BLUE)\n",
    "                neuron.move_to(layer_positions[i] + UP * (j - (layer_size - 1) / 2) * 0.8)\n",
    "                self.play(Create(neuron), run_time=0.2)\n",
    "                layer_neurons.append(neuron)\n",
    "            neurons.append(layer_neurons)\n",
    "\n",
    "        self.wait(0.5)\n",
    "\n",
    "        # Create connections\n",
    "        for i in range(len(neurons) - 1):\n",
    "            for n1 in neurons[i]:\n",
    "                for n2 in neurons[i + 1]:\n",
    "                    line = Line(n1.get_center(), n2.get_center(), stroke_width=1, color=WHITE)\n",
    "                    self.play(Create(line), run_time=0.05)\n",
    "\n",
    "        self.wait(0.5)\n",
    "\n",
    "        # Animate signal passing\n",
    "        for i in range(len(neurons) - 1):\n",
    "            for n1 in neurons[i]:\n",
    "                for n2 in neurons[i + 1]:\n",
    "                    signal = Line(n1.get_center(), n2.get_center(), color=YELLOW, stroke_width=3)\n",
    "                    self.play(Create(signal), run_time=0.1)\n",
    "                    self.remove(signal)\n",
    "\n",
    "        self.wait(1)\n"
   ]
  }
 ],
 "metadata": {
  "kernelspec": {
   "display_name": ".manim",
   "language": "python",
   "name": "python3"
  },
  "language_info": {
   "codemirror_mode": {
    "name": "ipython",
    "version": 3
   },
   "file_extension": ".py",
   "mimetype": "text/x-python",
   "name": "python",
   "nbconvert_exporter": "python",
   "pygments_lexer": "ipython3",
   "version": "3.10.11"
  }
 },
 "nbformat": 4,
 "nbformat_minor": 5
}
